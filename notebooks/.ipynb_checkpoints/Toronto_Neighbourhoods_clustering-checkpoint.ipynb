{
 "cells": [
  {
   "cell_type": "markdown",
   "metadata": {},
   "source": [
    "# Segmenting and Clustering Neighborhoods in Toronto"
   ]
  },
  {
   "cell_type": "markdown",
   "metadata": {},
   "source": [
    "### Scrape information from the wikipedia page on Toronto neighborhoods"
   ]
  },
  {
   "cell_type": "markdown",
   "metadata": {},
   "source": [
    "- use BeautifulSoup for webscrapping the table"
   ]
  },
  {
   "cell_type": "markdown",
   "metadata": {},
   "source": [
    "import libraries"
   ]
  },
  {
   "cell_type": "code",
   "execution_count": 1,
   "metadata": {},
   "outputs": [],
   "source": [
    "from bs4 import BeautifulSoup\n",
    "import requests\n",
    "import pandas as pd"
   ]
  },
  {
   "cell_type": "markdown",
   "metadata": {},
   "source": [
    "website for scrapping:"
   ]
  },
  {
   "cell_type": "code",
   "execution_count": 2,
   "metadata": {},
   "outputs": [],
   "source": [
    "url = 'https://en.wikipedia.org/wiki/List_of_postal_codes_of_Canada:_M'"
   ]
  },
  {
   "cell_type": "markdown",
   "metadata": {},
   "source": [
    "getting the entire website as lxml:"
   ]
  },
  {
   "cell_type": "code",
   "execution_count": 3,
   "metadata": {},
   "outputs": [],
   "source": [
    "html_content = requests.get(url)"
   ]
  },
  {
   "cell_type": "markdown",
   "metadata": {},
   "source": [
    "get text from the website"
   ]
  },
  {
   "cell_type": "code",
   "execution_count": 4,
   "metadata": {},
   "outputs": [],
   "source": [
    "content = html_content.text\n",
    "soup = BeautifulSoup(content, 'lxml')"
   ]
  },
  {
   "cell_type": "markdown",
   "metadata": {},
   "source": [
    "find table:"
   ]
  },
  {
   "cell_type": "code",
   "execution_count": 5,
   "metadata": {},
   "outputs": [],
   "source": [
    "# find table on the website\n",
    "table = soup.find(\"table\", attrs = {\"class\": \"wikitable sortable\"})"
   ]
  },
  {
   "cell_type": "markdown",
   "metadata": {},
   "source": [
    "get table headers:"
   ]
  },
  {
   "cell_type": "code",
   "execution_count": 6,
   "metadata": {},
   "outputs": [
    {
     "data": {
      "text/plain": [
       "['Postal Code', 'Borough', 'Neighbourhood']"
      ]
     },
     "execution_count": 6,
     "metadata": {},
     "output_type": "execute_result"
    }
   ],
   "source": [
    "t_headers = []\n",
    "for th in table.find_all(\"th\"):\n",
    "    t_headers.append(th.text.replace(\"\\n\",' ').strip())\n",
    "\n",
    "t_headers"
   ]
  },
  {
   "cell_type": "markdown",
   "metadata": {},
   "source": [
    "get data from table into a dictionary:"
   ]
  },
  {
   "cell_type": "code",
   "execution_count": 7,
   "metadata": {},
   "outputs": [],
   "source": [
    "table_data = []\n",
    "for tr in table.tbody.find_all(\"tr\"): # each row in tbody of table is tr\n",
    "    t_row = {}\n",
    "    for td, th in zip(tr.find_all(\"td\"), t_headers): # each cell in row is td\n",
    "        t_row[th] = td.text.replace('\\n','').strip()\n",
    "    table_data.append(t_row)"
   ]
  },
  {
   "cell_type": "markdown",
   "metadata": {},
   "source": [
    "### Wrangle the data"
   ]
  },
  {
   "cell_type": "code",
   "execution_count": 8,
   "metadata": {},
   "outputs": [],
   "source": [
    "table_data = table_data[1:]  # remove first row (it is empty)"
   ]
  },
  {
   "cell_type": "markdown",
   "metadata": {},
   "source": [
    "Convert dictionary into a dataframe:"
   ]
  },
  {
   "cell_type": "code",
   "execution_count": 9,
   "metadata": {},
   "outputs": [
    {
     "data": {
      "text/html": [
       "<div>\n",
       "<style scoped>\n",
       "    .dataframe tbody tr th:only-of-type {\n",
       "        vertical-align: middle;\n",
       "    }\n",
       "\n",
       "    .dataframe tbody tr th {\n",
       "        vertical-align: top;\n",
       "    }\n",
       "\n",
       "    .dataframe thead th {\n",
       "        text-align: right;\n",
       "    }\n",
       "</style>\n",
       "<table border=\"1\" class=\"dataframe\">\n",
       "  <thead>\n",
       "    <tr style=\"text-align: right;\">\n",
       "      <th></th>\n",
       "      <th>Postal Code</th>\n",
       "      <th>Borough</th>\n",
       "      <th>Neighbourhood</th>\n",
       "    </tr>\n",
       "  </thead>\n",
       "  <tbody>\n",
       "    <tr>\n",
       "      <th>0</th>\n",
       "      <td>M1A</td>\n",
       "      <td>Not assigned</td>\n",
       "      <td>Not assigned</td>\n",
       "    </tr>\n",
       "    <tr>\n",
       "      <th>1</th>\n",
       "      <td>M2A</td>\n",
       "      <td>Not assigned</td>\n",
       "      <td>Not assigned</td>\n",
       "    </tr>\n",
       "    <tr>\n",
       "      <th>2</th>\n",
       "      <td>M3A</td>\n",
       "      <td>North York</td>\n",
       "      <td>Parkwoods</td>\n",
       "    </tr>\n",
       "    <tr>\n",
       "      <th>3</th>\n",
       "      <td>M4A</td>\n",
       "      <td>North York</td>\n",
       "      <td>Victoria Village</td>\n",
       "    </tr>\n",
       "    <tr>\n",
       "      <th>4</th>\n",
       "      <td>M5A</td>\n",
       "      <td>Downtown Toronto</td>\n",
       "      <td>Regent Park, Harbourfront</td>\n",
       "    </tr>\n",
       "  </tbody>\n",
       "</table>\n",
       "</div>"
      ],
      "text/plain": [
       "  Postal Code           Borough              Neighbourhood\n",
       "0         M1A      Not assigned               Not assigned\n",
       "1         M2A      Not assigned               Not assigned\n",
       "2         M3A        North York                  Parkwoods\n",
       "3         M4A        North York           Victoria Village\n",
       "4         M5A  Downtown Toronto  Regent Park, Harbourfront"
      ]
     },
     "execution_count": 9,
     "metadata": {},
     "output_type": "execute_result"
    }
   ],
   "source": [
    "df_table = pd.DataFrame(table_data)\n",
    "df_table.head()"
   ]
  },
  {
   "cell_type": "code",
   "execution_count": 10,
   "metadata": {},
   "outputs": [
    {
     "data": {
      "text/plain": [
       "(180, 3)"
      ]
     },
     "execution_count": 10,
     "metadata": {},
     "output_type": "execute_result"
    }
   ],
   "source": [
    "df_table.shape"
   ]
  },
  {
   "cell_type": "markdown",
   "metadata": {},
   "source": [
    "Remove rows where Borough is Not assigned:"
   ]
  },
  {
   "cell_type": "code",
   "execution_count": 11,
   "metadata": {},
   "outputs": [
    {
     "data": {
      "text/html": [
       "<div>\n",
       "<style scoped>\n",
       "    .dataframe tbody tr th:only-of-type {\n",
       "        vertical-align: middle;\n",
       "    }\n",
       "\n",
       "    .dataframe tbody tr th {\n",
       "        vertical-align: top;\n",
       "    }\n",
       "\n",
       "    .dataframe thead th {\n",
       "        text-align: right;\n",
       "    }\n",
       "</style>\n",
       "<table border=\"1\" class=\"dataframe\">\n",
       "  <thead>\n",
       "    <tr style=\"text-align: right;\">\n",
       "      <th></th>\n",
       "      <th>Postal Code</th>\n",
       "      <th>Borough</th>\n",
       "      <th>Neighbourhood</th>\n",
       "    </tr>\n",
       "  </thead>\n",
       "  <tbody>\n",
       "    <tr>\n",
       "      <th>2</th>\n",
       "      <td>M3A</td>\n",
       "      <td>North York</td>\n",
       "      <td>Parkwoods</td>\n",
       "    </tr>\n",
       "    <tr>\n",
       "      <th>3</th>\n",
       "      <td>M4A</td>\n",
       "      <td>North York</td>\n",
       "      <td>Victoria Village</td>\n",
       "    </tr>\n",
       "    <tr>\n",
       "      <th>4</th>\n",
       "      <td>M5A</td>\n",
       "      <td>Downtown Toronto</td>\n",
       "      <td>Regent Park, Harbourfront</td>\n",
       "    </tr>\n",
       "    <tr>\n",
       "      <th>5</th>\n",
       "      <td>M6A</td>\n",
       "      <td>North York</td>\n",
       "      <td>Lawrence Manor, Lawrence Heights</td>\n",
       "    </tr>\n",
       "    <tr>\n",
       "      <th>6</th>\n",
       "      <td>M7A</td>\n",
       "      <td>Downtown Toronto</td>\n",
       "      <td>Queen's Park, Ontario Provincial Government</td>\n",
       "    </tr>\n",
       "  </tbody>\n",
       "</table>\n",
       "</div>"
      ],
      "text/plain": [
       "  Postal Code           Borough                                Neighbourhood\n",
       "2         M3A        North York                                    Parkwoods\n",
       "3         M4A        North York                             Victoria Village\n",
       "4         M5A  Downtown Toronto                    Regent Park, Harbourfront\n",
       "5         M6A        North York             Lawrence Manor, Lawrence Heights\n",
       "6         M7A  Downtown Toronto  Queen's Park, Ontario Provincial Government"
      ]
     },
     "execution_count": 11,
     "metadata": {},
     "output_type": "execute_result"
    }
   ],
   "source": [
    "df_table = df_table[df_table['Borough']!='Not assigned']\n",
    "df_table.head()"
   ]
  },
  {
   "cell_type": "code",
   "execution_count": 12,
   "metadata": {},
   "outputs": [
    {
     "data": {
      "text/plain": [
       "(103, 3)"
      ]
     },
     "execution_count": 12,
     "metadata": {},
     "output_type": "execute_result"
    }
   ],
   "source": [
    "df_table.shape"
   ]
  },
  {
   "cell_type": "markdown",
   "metadata": {},
   "source": [
    "Combine rows with same Postal Code/Borough:"
   ]
  },
  {
   "cell_type": "code",
   "execution_count": 13,
   "metadata": {},
   "outputs": [
    {
     "data": {
      "text/html": [
       "<div>\n",
       "<style scoped>\n",
       "    .dataframe tbody tr th:only-of-type {\n",
       "        vertical-align: middle;\n",
       "    }\n",
       "\n",
       "    .dataframe tbody tr th {\n",
       "        vertical-align: top;\n",
       "    }\n",
       "\n",
       "    .dataframe thead th {\n",
       "        text-align: right;\n",
       "    }\n",
       "</style>\n",
       "<table border=\"1\" class=\"dataframe\">\n",
       "  <thead>\n",
       "    <tr style=\"text-align: right;\">\n",
       "      <th></th>\n",
       "      <th>Postal Code</th>\n",
       "      <th>Borough</th>\n",
       "      <th>Neighbourhood</th>\n",
       "    </tr>\n",
       "  </thead>\n",
       "  <tbody>\n",
       "    <tr>\n",
       "      <th>0</th>\n",
       "      <td>M3A</td>\n",
       "      <td>North York</td>\n",
       "      <td>Parkwoods</td>\n",
       "    </tr>\n",
       "    <tr>\n",
       "      <th>1</th>\n",
       "      <td>M4A</td>\n",
       "      <td>North York</td>\n",
       "      <td>Victoria Village</td>\n",
       "    </tr>\n",
       "    <tr>\n",
       "      <th>2</th>\n",
       "      <td>M5A</td>\n",
       "      <td>Downtown Toronto</td>\n",
       "      <td>Regent Park, Harbourfront</td>\n",
       "    </tr>\n",
       "    <tr>\n",
       "      <th>3</th>\n",
       "      <td>M6A</td>\n",
       "      <td>North York</td>\n",
       "      <td>Lawrence Manor, Lawrence Heights</td>\n",
       "    </tr>\n",
       "    <tr>\n",
       "      <th>4</th>\n",
       "      <td>M7A</td>\n",
       "      <td>Downtown Toronto</td>\n",
       "      <td>Queen's Park, Ontario Provincial Government</td>\n",
       "    </tr>\n",
       "  </tbody>\n",
       "</table>\n",
       "</div>"
      ],
      "text/plain": [
       "  Postal Code           Borough                                Neighbourhood\n",
       "0         M3A        North York                                    Parkwoods\n",
       "1         M4A        North York                             Victoria Village\n",
       "2         M5A  Downtown Toronto                    Regent Park, Harbourfront\n",
       "3         M6A        North York             Lawrence Manor, Lawrence Heights\n",
       "4         M7A  Downtown Toronto  Queen's Park, Ontario Provincial Government"
      ]
     },
     "execution_count": 13,
     "metadata": {},
     "output_type": "execute_result"
    }
   ],
   "source": [
    "df_table = pd.DataFrame(df_table.groupby(['Postal Code','Borough'], sort=False)['Neighbourhood'].apply(', '.join))\n",
    "df_table.reset_index(inplace=True)\n",
    "df_table.head()"
   ]
  },
  {
   "cell_type": "code",
   "execution_count": 14,
   "metadata": {},
   "outputs": [
    {
     "data": {
      "text/plain": [
       "(103, 3)"
      ]
     },
     "execution_count": 14,
     "metadata": {},
     "output_type": "execute_result"
    }
   ],
   "source": [
    "df_table.shape"
   ]
  },
  {
   "cell_type": "markdown",
   "metadata": {},
   "source": [
    "\\* seems that there was no repeating Postal Code"
   ]
  },
  {
   "cell_type": "markdown",
   "metadata": {},
   "source": [
    "For the rows with Not assigned Neighbourhood, apply Borough as the Neighbourhood name:"
   ]
  },
  {
   "cell_type": "code",
   "execution_count": 15,
   "metadata": {},
   "outputs": [],
   "source": [
    "df_table.loc[df_table['Neighbourhood']=='Not assigned','Neighbourhood'] = df_table.loc[df_table['Neighbourhood']=='Not assigned','Borough']"
   ]
  },
  {
   "cell_type": "markdown",
   "metadata": {},
   "source": [
    "Number of rows obtained after wrangling of the data:"
   ]
  },
  {
   "cell_type": "code",
   "execution_count": 16,
   "metadata": {},
   "outputs": [
    {
     "name": "stdout",
     "output_type": "stream",
     "text": [
      "There is 103 rows in the dataframe\n"
     ]
    }
   ],
   "source": [
    "print('There is {} rows in the dataframe'.format(df_table.shape[0]))"
   ]
  },
  {
   "cell_type": "markdown",
   "metadata": {},
   "source": [
    "## Get spacial coordinates"
   ]
  },
  {
   "cell_type": "markdown",
   "metadata": {},
   "source": [
    "- obtain spatial coordinates for each neighbourhood"
   ]
  },
  {
   "cell_type": "code",
   "execution_count": 17,
   "metadata": {},
   "outputs": [],
   "source": [
    "import geocoder"
   ]
  },
  {
   "cell_type": "markdown",
   "metadata": {},
   "source": [
    "loop through all the rows and get coordinates based on post code:"
   ]
  },
  {
   "cell_type": "code",
   "execution_count": 18,
   "metadata": {},
   "outputs": [],
   "source": [
    "for idx, address in enumerate(df_table['Postal Code']):\n",
    "    address_full = address + ', Toronto, Ontario, Canada'\n",
    "    \n",
    "    coord = None\n",
    "    i = 0\n",
    "    while coord == None or i==20:\n",
    "        coord = geocoder.arcgis(address_full).latlng\n",
    "        i+=1\n",
    "    df_table.loc[idx, 'Latitude'] = coord[0]\n",
    "    df_table.loc[idx, 'Longitude'] = coord[1]"
   ]
  },
  {
   "cell_type": "code",
   "execution_count": 19,
   "metadata": {},
   "outputs": [
    {
     "data": {
      "text/html": [
       "<div>\n",
       "<style scoped>\n",
       "    .dataframe tbody tr th:only-of-type {\n",
       "        vertical-align: middle;\n",
       "    }\n",
       "\n",
       "    .dataframe tbody tr th {\n",
       "        vertical-align: top;\n",
       "    }\n",
       "\n",
       "    .dataframe thead th {\n",
       "        text-align: right;\n",
       "    }\n",
       "</style>\n",
       "<table border=\"1\" class=\"dataframe\">\n",
       "  <thead>\n",
       "    <tr style=\"text-align: right;\">\n",
       "      <th></th>\n",
       "      <th>Postal Code</th>\n",
       "      <th>Borough</th>\n",
       "      <th>Neighbourhood</th>\n",
       "      <th>Latitude</th>\n",
       "      <th>Longitude</th>\n",
       "    </tr>\n",
       "  </thead>\n",
       "  <tbody>\n",
       "    <tr>\n",
       "      <th>0</th>\n",
       "      <td>M3A</td>\n",
       "      <td>North York</td>\n",
       "      <td>Parkwoods</td>\n",
       "      <td>43.75188</td>\n",
       "      <td>-79.33036</td>\n",
       "    </tr>\n",
       "    <tr>\n",
       "      <th>1</th>\n",
       "      <td>M4A</td>\n",
       "      <td>North York</td>\n",
       "      <td>Victoria Village</td>\n",
       "      <td>43.73042</td>\n",
       "      <td>-79.31282</td>\n",
       "    </tr>\n",
       "    <tr>\n",
       "      <th>2</th>\n",
       "      <td>M5A</td>\n",
       "      <td>Downtown Toronto</td>\n",
       "      <td>Regent Park, Harbourfront</td>\n",
       "      <td>43.65514</td>\n",
       "      <td>-79.36265</td>\n",
       "    </tr>\n",
       "    <tr>\n",
       "      <th>3</th>\n",
       "      <td>M6A</td>\n",
       "      <td>North York</td>\n",
       "      <td>Lawrence Manor, Lawrence Heights</td>\n",
       "      <td>43.72321</td>\n",
       "      <td>-79.45141</td>\n",
       "    </tr>\n",
       "    <tr>\n",
       "      <th>4</th>\n",
       "      <td>M7A</td>\n",
       "      <td>Downtown Toronto</td>\n",
       "      <td>Queen's Park, Ontario Provincial Government</td>\n",
       "      <td>43.66449</td>\n",
       "      <td>-79.39302</td>\n",
       "    </tr>\n",
       "  </tbody>\n",
       "</table>\n",
       "</div>"
      ],
      "text/plain": [
       "  Postal Code           Borough                                Neighbourhood  \\\n",
       "0         M3A        North York                                    Parkwoods   \n",
       "1         M4A        North York                             Victoria Village   \n",
       "2         M5A  Downtown Toronto                    Regent Park, Harbourfront   \n",
       "3         M6A        North York             Lawrence Manor, Lawrence Heights   \n",
       "4         M7A  Downtown Toronto  Queen's Park, Ontario Provincial Government   \n",
       "\n",
       "   Latitude  Longitude  \n",
       "0  43.75188  -79.33036  \n",
       "1  43.73042  -79.31282  \n",
       "2  43.65514  -79.36265  \n",
       "3  43.72321  -79.45141  \n",
       "4  43.66449  -79.39302  "
      ]
     },
     "execution_count": 19,
     "metadata": {},
     "output_type": "execute_result"
    }
   ],
   "source": [
    "df_table.head()"
   ]
  },
  {
   "cell_type": "markdown",
   "metadata": {},
   "source": [
    "### Explore and cluster the neighborhoods in Toronto"
   ]
  },
  {
   "cell_type": "markdown",
   "metadata": {},
   "source": [
    "Filter the neighbourhoods to get only those located in Toronto city"
   ]
  },
  {
   "cell_type": "code",
   "execution_count": 20,
   "metadata": {},
   "outputs": [
    {
     "name": "stderr",
     "output_type": "stream",
     "text": [
      "C:\\Users\\Pawel\\anaconda3\\lib\\site-packages\\pandas\\core\\frame.py:3997: SettingWithCopyWarning: \n",
      "A value is trying to be set on a copy of a slice from a DataFrame\n",
      "\n",
      "See the caveats in the documentation: https://pandas.pydata.org/pandas-docs/stable/user_guide/indexing.html#returning-a-view-versus-a-copy\n",
      "  errors=errors,\n"
     ]
    },
    {
     "data": {
      "text/html": [
       "<div>\n",
       "<style scoped>\n",
       "    .dataframe tbody tr th:only-of-type {\n",
       "        vertical-align: middle;\n",
       "    }\n",
       "\n",
       "    .dataframe tbody tr th {\n",
       "        vertical-align: top;\n",
       "    }\n",
       "\n",
       "    .dataframe thead th {\n",
       "        text-align: right;\n",
       "    }\n",
       "</style>\n",
       "<table border=\"1\" class=\"dataframe\">\n",
       "  <thead>\n",
       "    <tr style=\"text-align: right;\">\n",
       "      <th></th>\n",
       "      <th>Postal Code</th>\n",
       "      <th>Borough</th>\n",
       "      <th>Neighbourhood</th>\n",
       "      <th>Latitude</th>\n",
       "      <th>Longitude</th>\n",
       "    </tr>\n",
       "  </thead>\n",
       "  <tbody>\n",
       "    <tr>\n",
       "      <th>0</th>\n",
       "      <td>M5A</td>\n",
       "      <td>Downtown Toronto</td>\n",
       "      <td>Regent Park, Harbourfront</td>\n",
       "      <td>43.65514</td>\n",
       "      <td>-79.36265</td>\n",
       "    </tr>\n",
       "    <tr>\n",
       "      <th>1</th>\n",
       "      <td>M7A</td>\n",
       "      <td>Downtown Toronto</td>\n",
       "      <td>Queen's Park, Ontario Provincial Government</td>\n",
       "      <td>43.66449</td>\n",
       "      <td>-79.39302</td>\n",
       "    </tr>\n",
       "    <tr>\n",
       "      <th>2</th>\n",
       "      <td>M5B</td>\n",
       "      <td>Downtown Toronto</td>\n",
       "      <td>Garden District, Ryerson</td>\n",
       "      <td>43.65736</td>\n",
       "      <td>-79.37818</td>\n",
       "    </tr>\n",
       "    <tr>\n",
       "      <th>3</th>\n",
       "      <td>M5C</td>\n",
       "      <td>Downtown Toronto</td>\n",
       "      <td>St. James Town</td>\n",
       "      <td>43.65143</td>\n",
       "      <td>-79.37557</td>\n",
       "    </tr>\n",
       "    <tr>\n",
       "      <th>4</th>\n",
       "      <td>M4E</td>\n",
       "      <td>East Toronto</td>\n",
       "      <td>The Beaches</td>\n",
       "      <td>43.67703</td>\n",
       "      <td>-79.29542</td>\n",
       "    </tr>\n",
       "  </tbody>\n",
       "</table>\n",
       "</div>"
      ],
      "text/plain": [
       "  Postal Code           Borough                                Neighbourhood  \\\n",
       "0         M5A  Downtown Toronto                    Regent Park, Harbourfront   \n",
       "1         M7A  Downtown Toronto  Queen's Park, Ontario Provincial Government   \n",
       "2         M5B  Downtown Toronto                     Garden District, Ryerson   \n",
       "3         M5C  Downtown Toronto                               St. James Town   \n",
       "4         M4E      East Toronto                                  The Beaches   \n",
       "\n",
       "   Latitude  Longitude  \n",
       "0  43.65514  -79.36265  \n",
       "1  43.66449  -79.39302  \n",
       "2  43.65736  -79.37818  \n",
       "3  43.65143  -79.37557  \n",
       "4  43.67703  -79.29542  "
      ]
     },
     "execution_count": 20,
     "metadata": {},
     "output_type": "execute_result"
    }
   ],
   "source": [
    "df_toronto = df_table[df_table['Borough'].str.contains('Toronto')]\n",
    "df_toronto.reset_index(inplace=True)\n",
    "df_toronto.drop('index', axis=1, inplace=True)\n",
    "df_toronto.head()"
   ]
  },
  {
   "cell_type": "code",
   "execution_count": 21,
   "metadata": {},
   "outputs": [
    {
     "data": {
      "text/plain": [
       "(39, 5)"
      ]
     },
     "execution_count": 21,
     "metadata": {},
     "output_type": "execute_result"
    }
   ],
   "source": [
    "df_toronto.shape"
   ]
  },
  {
   "cell_type": "markdown",
   "metadata": {},
   "source": [
    "Foursquare creditentials"
   ]
  },
  {
   "cell_type": "code",
   "execution_count": 22,
   "metadata": {},
   "outputs": [],
   "source": [
    "# @hidden_cell\n",
    "CLIENT_ID = '1M5PQXOKTSFCFWJSNHRQI1X1GBPD1GM0O05QVPOSGMXGGC00' # your Foursquare ID\n",
    "CLIENT_SECRET = '1GFHFAJFE05LEJ1K3DXRFNHXER3FXPUJ3U2CQOICNBAWPUPU' # your Foursquare Secret\n",
    "VERSION = '20180605' # Foursquare API version"
   ]
  },
  {
   "cell_type": "markdown",
   "metadata": {},
   "source": [
    "Get top 100 venues located within 500m using foursquare's API"
   ]
  },
  {
   "cell_type": "code",
   "execution_count": 42,
   "metadata": {},
   "outputs": [],
   "source": [
    "LIMIT = 100\n",
    "RADIUS = 200\n",
    "\n",
    "toronto_venues = []\n",
    "\n",
    "for i in range(df_toronto.shape[0]):\n",
    "    # url request to the foursquare api\n",
    "    url = 'https://api.foursquare.com/v2/venues/explore?&client_id={}&client_secret={}&v={}&ll={},{}&radius={}&limit{}'.format(\n",
    "        CLIENT_ID, \n",
    "        CLIENT_SECRET, \n",
    "        VERSION, \n",
    "        df_toronto.loc[i,'Latitude'], \n",
    "        df_toronto.loc[i,'Longitude'], \n",
    "        RADIUS, \n",
    "        LIMIT)\n",
    "    \n",
    "    results = requests.get(url).json()['response']['groups'][0]['items']\n",
    "    \n",
    "    toronto_venues.append([(\n",
    "        df_toronto.loc[i,'Postal Code'],\n",
    "        df_toronto.loc[i,'Borough'],\n",
    "        df_toronto.loc[i,'Neighbourhood'],\n",
    "        df_toronto.loc[i,'Latitude'],\n",
    "        df_toronto.loc[i,'Longitude'], \n",
    "        result['venue']['categories'][0]['name']) for result in results])"
   ]
  },
  {
   "cell_type": "markdown",
   "metadata": {},
   "source": [
    "Convert to dataframe"
   ]
  },
  {
   "cell_type": "code",
   "execution_count": 43,
   "metadata": {},
   "outputs": [
    {
     "data": {
      "text/html": [
       "<div>\n",
       "<style scoped>\n",
       "    .dataframe tbody tr th:only-of-type {\n",
       "        vertical-align: middle;\n",
       "    }\n",
       "\n",
       "    .dataframe tbody tr th {\n",
       "        vertical-align: top;\n",
       "    }\n",
       "\n",
       "    .dataframe thead th {\n",
       "        text-align: right;\n",
       "    }\n",
       "</style>\n",
       "<table border=\"1\" class=\"dataframe\">\n",
       "  <thead>\n",
       "    <tr style=\"text-align: right;\">\n",
       "      <th></th>\n",
       "      <th>Postal Code</th>\n",
       "      <th>Borough</th>\n",
       "      <th>Neighbourhood</th>\n",
       "      <th>Latitude</th>\n",
       "      <th>Longitude</th>\n",
       "      <th>Venue</th>\n",
       "    </tr>\n",
       "  </thead>\n",
       "  <tbody>\n",
       "    <tr>\n",
       "      <th>0</th>\n",
       "      <td>M5A</td>\n",
       "      <td>Downtown Toronto</td>\n",
       "      <td>Regent Park, Harbourfront</td>\n",
       "      <td>43.65514</td>\n",
       "      <td>-79.36265</td>\n",
       "      <td>Bakery</td>\n",
       "    </tr>\n",
       "    <tr>\n",
       "      <th>1</th>\n",
       "      <td>M5A</td>\n",
       "      <td>Downtown Toronto</td>\n",
       "      <td>Regent Park, Harbourfront</td>\n",
       "      <td>43.65514</td>\n",
       "      <td>-79.36265</td>\n",
       "      <td>Coffee Shop</td>\n",
       "    </tr>\n",
       "    <tr>\n",
       "      <th>2</th>\n",
       "      <td>M5A</td>\n",
       "      <td>Downtown Toronto</td>\n",
       "      <td>Regent Park, Harbourfront</td>\n",
       "      <td>43.65514</td>\n",
       "      <td>-79.36265</td>\n",
       "      <td>Breakfast Spot</td>\n",
       "    </tr>\n",
       "    <tr>\n",
       "      <th>3</th>\n",
       "      <td>M5A</td>\n",
       "      <td>Downtown Toronto</td>\n",
       "      <td>Regent Park, Harbourfront</td>\n",
       "      <td>43.65514</td>\n",
       "      <td>-79.36265</td>\n",
       "      <td>Yoga Studio</td>\n",
       "    </tr>\n",
       "    <tr>\n",
       "      <th>4</th>\n",
       "      <td>M5A</td>\n",
       "      <td>Downtown Toronto</td>\n",
       "      <td>Regent Park, Harbourfront</td>\n",
       "      <td>43.65514</td>\n",
       "      <td>-79.36265</td>\n",
       "      <td>Breakfast Spot</td>\n",
       "    </tr>\n",
       "  </tbody>\n",
       "</table>\n",
       "</div>"
      ],
      "text/plain": [
       "  Postal Code           Borough              Neighbourhood  Latitude  \\\n",
       "0         M5A  Downtown Toronto  Regent Park, Harbourfront  43.65514   \n",
       "1         M5A  Downtown Toronto  Regent Park, Harbourfront  43.65514   \n",
       "2         M5A  Downtown Toronto  Regent Park, Harbourfront  43.65514   \n",
       "3         M5A  Downtown Toronto  Regent Park, Harbourfront  43.65514   \n",
       "4         M5A  Downtown Toronto  Regent Park, Harbourfront  43.65514   \n",
       "\n",
       "   Longitude           Venue  \n",
       "0  -79.36265          Bakery  \n",
       "1  -79.36265     Coffee Shop  \n",
       "2  -79.36265  Breakfast Spot  \n",
       "3  -79.36265     Yoga Studio  \n",
       "4  -79.36265  Breakfast Spot  "
      ]
     },
     "execution_count": 43,
     "metadata": {},
     "output_type": "execute_result"
    }
   ],
   "source": [
    "df_toronto_venues = pd.DataFrame(data=[item for venue_list in toronto_venues for item in venue_list],\n",
    "                                columns=['Postal Code', 'Borough', 'Neighbourhood','Latitude','Longitude','Venue'])\n",
    "df_toronto_venues.head()"
   ]
  },
  {
   "cell_type": "code",
   "execution_count": 44,
   "metadata": {},
   "outputs": [
    {
     "data": {
      "text/plain": [
       "(35,)"
      ]
     },
     "execution_count": 44,
     "metadata": {},
     "output_type": "execute_result"
    }
   ],
   "source": [
    "df_toronto_venues['Neighbourhood'].value_counts().shape"
   ]
  },
  {
   "cell_type": "markdown",
   "metadata": {},
   "source": [
    "perform one-hot-encoding"
   ]
  },
  {
   "cell_type": "code",
   "execution_count": 45,
   "metadata": {},
   "outputs": [
    {
     "data": {
      "text/html": [
       "<div>\n",
       "<style scoped>\n",
       "    .dataframe tbody tr th:only-of-type {\n",
       "        vertical-align: middle;\n",
       "    }\n",
       "\n",
       "    .dataframe tbody tr th {\n",
       "        vertical-align: top;\n",
       "    }\n",
       "\n",
       "    .dataframe thead th {\n",
       "        text-align: right;\n",
       "    }\n",
       "</style>\n",
       "<table border=\"1\" class=\"dataframe\">\n",
       "  <thead>\n",
       "    <tr style=\"text-align: right;\">\n",
       "      <th></th>\n",
       "      <th>Neighbourhood</th>\n",
       "      <th>American Restaurant</th>\n",
       "      <th>Antique Shop</th>\n",
       "      <th>Art Gallery</th>\n",
       "      <th>Arts &amp; Crafts Store</th>\n",
       "      <th>Asian Restaurant</th>\n",
       "      <th>BBQ Joint</th>\n",
       "      <th>Bakery</th>\n",
       "      <th>Bank</th>\n",
       "      <th>Bar</th>\n",
       "      <th>...</th>\n",
       "      <th>Thai Restaurant</th>\n",
       "      <th>Theater</th>\n",
       "      <th>Theme Restaurant</th>\n",
       "      <th>Trail</th>\n",
       "      <th>Train Station</th>\n",
       "      <th>Vegetarian / Vegan Restaurant</th>\n",
       "      <th>Veterinarian</th>\n",
       "      <th>Vietnamese Restaurant</th>\n",
       "      <th>Wine Bar</th>\n",
       "      <th>Yoga Studio</th>\n",
       "    </tr>\n",
       "  </thead>\n",
       "  <tbody>\n",
       "    <tr>\n",
       "      <th>0</th>\n",
       "      <td>Berczy Park</td>\n",
       "      <td>0.0</td>\n",
       "      <td>0.0</td>\n",
       "      <td>0.0</td>\n",
       "      <td>0.0</td>\n",
       "      <td>0.00</td>\n",
       "      <td>0.0</td>\n",
       "      <td>0.0</td>\n",
       "      <td>0.000000</td>\n",
       "      <td>0.00</td>\n",
       "      <td>...</td>\n",
       "      <td>0.000000</td>\n",
       "      <td>0.0</td>\n",
       "      <td>0.0</td>\n",
       "      <td>0.0</td>\n",
       "      <td>0.0</td>\n",
       "      <td>0.00</td>\n",
       "      <td>0.0</td>\n",
       "      <td>0.000</td>\n",
       "      <td>0.0</td>\n",
       "      <td>0.0</td>\n",
       "    </tr>\n",
       "    <tr>\n",
       "      <th>1</th>\n",
       "      <td>Brockton, Parkdale Village, Exhibition Place</td>\n",
       "      <td>0.0</td>\n",
       "      <td>0.0</td>\n",
       "      <td>0.0</td>\n",
       "      <td>0.0</td>\n",
       "      <td>0.00</td>\n",
       "      <td>0.0</td>\n",
       "      <td>0.0</td>\n",
       "      <td>0.000000</td>\n",
       "      <td>0.00</td>\n",
       "      <td>...</td>\n",
       "      <td>0.000000</td>\n",
       "      <td>0.0</td>\n",
       "      <td>0.0</td>\n",
       "      <td>0.0</td>\n",
       "      <td>0.0</td>\n",
       "      <td>0.00</td>\n",
       "      <td>0.0</td>\n",
       "      <td>0.125</td>\n",
       "      <td>0.0</td>\n",
       "      <td>0.0</td>\n",
       "    </tr>\n",
       "    <tr>\n",
       "      <th>2</th>\n",
       "      <td>Business reply mail Processing Centre, South C...</td>\n",
       "      <td>0.0</td>\n",
       "      <td>0.0</td>\n",
       "      <td>0.0</td>\n",
       "      <td>0.0</td>\n",
       "      <td>0.04</td>\n",
       "      <td>0.0</td>\n",
       "      <td>0.0</td>\n",
       "      <td>0.000000</td>\n",
       "      <td>0.08</td>\n",
       "      <td>...</td>\n",
       "      <td>0.040000</td>\n",
       "      <td>0.0</td>\n",
       "      <td>0.0</td>\n",
       "      <td>0.0</td>\n",
       "      <td>0.0</td>\n",
       "      <td>0.04</td>\n",
       "      <td>0.0</td>\n",
       "      <td>0.000</td>\n",
       "      <td>0.0</td>\n",
       "      <td>0.0</td>\n",
       "    </tr>\n",
       "    <tr>\n",
       "      <th>3</th>\n",
       "      <td>CN Tower, King and Spadina, Railway Lands, Har...</td>\n",
       "      <td>0.0</td>\n",
       "      <td>0.0</td>\n",
       "      <td>0.0</td>\n",
       "      <td>0.0</td>\n",
       "      <td>0.00</td>\n",
       "      <td>0.0</td>\n",
       "      <td>0.0</td>\n",
       "      <td>0.000000</td>\n",
       "      <td>0.00</td>\n",
       "      <td>...</td>\n",
       "      <td>0.000000</td>\n",
       "      <td>0.0</td>\n",
       "      <td>0.0</td>\n",
       "      <td>0.0</td>\n",
       "      <td>0.2</td>\n",
       "      <td>0.00</td>\n",
       "      <td>0.2</td>\n",
       "      <td>0.000</td>\n",
       "      <td>0.0</td>\n",
       "      <td>0.0</td>\n",
       "    </tr>\n",
       "    <tr>\n",
       "      <th>4</th>\n",
       "      <td>Central Bay Street</td>\n",
       "      <td>0.0</td>\n",
       "      <td>0.0</td>\n",
       "      <td>0.0</td>\n",
       "      <td>0.0</td>\n",
       "      <td>0.00</td>\n",
       "      <td>0.0</td>\n",
       "      <td>0.0</td>\n",
       "      <td>0.035714</td>\n",
       "      <td>0.00</td>\n",
       "      <td>...</td>\n",
       "      <td>0.035714</td>\n",
       "      <td>0.0</td>\n",
       "      <td>0.0</td>\n",
       "      <td>0.0</td>\n",
       "      <td>0.0</td>\n",
       "      <td>0.00</td>\n",
       "      <td>0.0</td>\n",
       "      <td>0.000</td>\n",
       "      <td>0.0</td>\n",
       "      <td>0.0</td>\n",
       "    </tr>\n",
       "  </tbody>\n",
       "</table>\n",
       "<p>5 rows × 136 columns</p>\n",
       "</div>"
      ],
      "text/plain": [
       "                                       Neighbourhood  American Restaurant  \\\n",
       "0                                        Berczy Park                  0.0   \n",
       "1       Brockton, Parkdale Village, Exhibition Place                  0.0   \n",
       "2  Business reply mail Processing Centre, South C...                  0.0   \n",
       "3  CN Tower, King and Spadina, Railway Lands, Har...                  0.0   \n",
       "4                                 Central Bay Street                  0.0   \n",
       "\n",
       "   Antique Shop  Art Gallery  Arts & Crafts Store  Asian Restaurant  \\\n",
       "0           0.0          0.0                  0.0              0.00   \n",
       "1           0.0          0.0                  0.0              0.00   \n",
       "2           0.0          0.0                  0.0              0.04   \n",
       "3           0.0          0.0                  0.0              0.00   \n",
       "4           0.0          0.0                  0.0              0.00   \n",
       "\n",
       "   BBQ Joint  Bakery      Bank   Bar  ...  Thai Restaurant  Theater  \\\n",
       "0        0.0     0.0  0.000000  0.00  ...         0.000000      0.0   \n",
       "1        0.0     0.0  0.000000  0.00  ...         0.000000      0.0   \n",
       "2        0.0     0.0  0.000000  0.08  ...         0.040000      0.0   \n",
       "3        0.0     0.0  0.000000  0.00  ...         0.000000      0.0   \n",
       "4        0.0     0.0  0.035714  0.00  ...         0.035714      0.0   \n",
       "\n",
       "   Theme Restaurant  Trail  Train Station  Vegetarian / Vegan Restaurant  \\\n",
       "0               0.0    0.0            0.0                           0.00   \n",
       "1               0.0    0.0            0.0                           0.00   \n",
       "2               0.0    0.0            0.0                           0.04   \n",
       "3               0.0    0.0            0.2                           0.00   \n",
       "4               0.0    0.0            0.0                           0.00   \n",
       "\n",
       "   Veterinarian  Vietnamese Restaurant  Wine Bar  Yoga Studio  \n",
       "0           0.0                  0.000       0.0          0.0  \n",
       "1           0.0                  0.125       0.0          0.0  \n",
       "2           0.0                  0.000       0.0          0.0  \n",
       "3           0.2                  0.000       0.0          0.0  \n",
       "4           0.0                  0.000       0.0          0.0  \n",
       "\n",
       "[5 rows x 136 columns]"
      ]
     },
     "execution_count": 45,
     "metadata": {},
     "output_type": "execute_result"
    }
   ],
   "source": [
    "# one-hot-encoding for the venues\n",
    "toronto_onehot = pd.get_dummies(df_toronto_venues[['Venue']], prefix=\"\", prefix_sep=\"\")\n",
    "\n",
    "# move neighbourhood column to the front\n",
    "toronto_onehot.insert(0, 'Neighbourhood', df_toronto_venues['Neighbourhood'])\n",
    "\n",
    "# sum up venue types for each neighbourhood\n",
    "toronto_group = toronto_onehot.groupby(['Neighbourhood']).mean().reset_index()\n",
    "\n",
    "toronto_group.head()"
   ]
  },
  {
   "cell_type": "markdown",
   "metadata": {},
   "source": [
    "#### Cluster neighbourhoods based on number of venue types"
   ]
  },
  {
   "cell_type": "markdown",
   "metadata": {},
   "source": [
    "we use k-means to group neighbourhoods in 4 groups"
   ]
  },
  {
   "cell_type": "code",
   "execution_count": 46,
   "metadata": {},
   "outputs": [],
   "source": [
    "from sklearn.cluster import KMeans"
   ]
  },
  {
   "cell_type": "code",
   "execution_count": 114,
   "metadata": {},
   "outputs": [],
   "source": [
    "# get features based on which groups will be made\n",
    "features = toronto_group.drop(['Neighbourhood'], axis=1)\n",
    "\n",
    "# create k-means model and fit our data\n",
    "kclusters = 3\n",
    "kmeans = KMeans(n_clusters=kclusters, init='k-means++', n_init=20, max_iter=500, random_state=0).fit(features)"
   ]
  },
  {
   "cell_type": "markdown",
   "metadata": {},
   "source": [
    "create new data frame with assigned cluster and top 3 venue types for each neighbourhood"
   ]
  },
  {
   "cell_type": "code",
   "execution_count": 151,
   "metadata": {},
   "outputs": [],
   "source": [
    "columns=['Cluster', 'Neighbourhood', 'top_1_venue', 'top_2_venue', 'top_3_venue']\n",
    "toronto_clustered = pd.DataFrame(columns=columns)\n",
    "for i in range(features.shape[0]):\n",
    "    toronto_clustered.loc[i,columns[0]] = kmeans.labels_[i]\n",
    "    toronto_clustered.loc[i,columns[1]] = toronto_group.loc[i, 'Neighbourhood']\n",
    "    toronto_clustered.loc[i,columns[2:5]] = features.iloc[i,:].sort_values(ascending=False).index[0:3]"
   ]
  },
  {
   "cell_type": "code",
   "execution_count": 152,
   "metadata": {},
   "outputs": [
    {
     "data": {
      "text/html": [
       "<div>\n",
       "<style scoped>\n",
       "    .dataframe tbody tr th:only-of-type {\n",
       "        vertical-align: middle;\n",
       "    }\n",
       "\n",
       "    .dataframe tbody tr th {\n",
       "        vertical-align: top;\n",
       "    }\n",
       "\n",
       "    .dataframe thead th {\n",
       "        text-align: right;\n",
       "    }\n",
       "</style>\n",
       "<table border=\"1\" class=\"dataframe\">\n",
       "  <thead>\n",
       "    <tr style=\"text-align: right;\">\n",
       "      <th></th>\n",
       "      <th>Cluster</th>\n",
       "      <th>Neighbourhood</th>\n",
       "      <th>top_1_venue</th>\n",
       "      <th>top_2_venue</th>\n",
       "      <th>top_3_venue</th>\n",
       "    </tr>\n",
       "  </thead>\n",
       "  <tbody>\n",
       "    <tr>\n",
       "      <th>0</th>\n",
       "      <td>1</td>\n",
       "      <td>Berczy Park</td>\n",
       "      <td>Breakfast Spot</td>\n",
       "      <td>Restaurant</td>\n",
       "      <td>Italian Restaurant</td>\n",
       "    </tr>\n",
       "    <tr>\n",
       "      <th>1</th>\n",
       "      <td>1</td>\n",
       "      <td>Brockton, Parkdale Village, Exhibition Place</td>\n",
       "      <td>Sandwich Place</td>\n",
       "      <td>Coffee Shop</td>\n",
       "      <td>Pet Store</td>\n",
       "    </tr>\n",
       "    <tr>\n",
       "      <th>2</th>\n",
       "      <td>1</td>\n",
       "      <td>Business reply mail Processing Centre, South C...</td>\n",
       "      <td>Café</td>\n",
       "      <td>Japanese Restaurant</td>\n",
       "      <td>Steakhouse</td>\n",
       "    </tr>\n",
       "    <tr>\n",
       "      <th>3</th>\n",
       "      <td>1</td>\n",
       "      <td>CN Tower, King and Spadina, Railway Lands, Har...</td>\n",
       "      <td>Coffee Shop</td>\n",
       "      <td>Veterinarian</td>\n",
       "      <td>Train Station</td>\n",
       "    </tr>\n",
       "    <tr>\n",
       "      <th>4</th>\n",
       "      <td>1</td>\n",
       "      <td>Central Bay Street</td>\n",
       "      <td>Sushi Restaurant</td>\n",
       "      <td>Ramen Restaurant</td>\n",
       "      <td>Japanese Restaurant</td>\n",
       "    </tr>\n",
       "  </tbody>\n",
       "</table>\n",
       "</div>"
      ],
      "text/plain": [
       "  Cluster                                      Neighbourhood  \\\n",
       "0       1                                        Berczy Park   \n",
       "1       1       Brockton, Parkdale Village, Exhibition Place   \n",
       "2       1  Business reply mail Processing Centre, South C...   \n",
       "3       1  CN Tower, King and Spadina, Railway Lands, Har...   \n",
       "4       1                                 Central Bay Street   \n",
       "\n",
       "        top_1_venue          top_2_venue          top_3_venue  \n",
       "0    Breakfast Spot           Restaurant   Italian Restaurant  \n",
       "1    Sandwich Place          Coffee Shop            Pet Store  \n",
       "2              Café  Japanese Restaurant           Steakhouse  \n",
       "3       Coffee Shop         Veterinarian        Train Station  \n",
       "4  Sushi Restaurant     Ramen Restaurant  Japanese Restaurant  "
      ]
     },
     "execution_count": 152,
     "metadata": {},
     "output_type": "execute_result"
    }
   ],
   "source": [
    "toronto_clustered.head()"
   ]
  },
  {
   "cell_type": "markdown",
   "metadata": {},
   "source": [
    "add borough and location data"
   ]
  },
  {
   "cell_type": "code",
   "execution_count": 153,
   "metadata": {},
   "outputs": [
    {
     "data": {
      "text/html": [
       "<div>\n",
       "<style scoped>\n",
       "    .dataframe tbody tr th:only-of-type {\n",
       "        vertical-align: middle;\n",
       "    }\n",
       "\n",
       "    .dataframe tbody tr th {\n",
       "        vertical-align: top;\n",
       "    }\n",
       "\n",
       "    .dataframe thead th {\n",
       "        text-align: right;\n",
       "    }\n",
       "</style>\n",
       "<table border=\"1\" class=\"dataframe\">\n",
       "  <thead>\n",
       "    <tr style=\"text-align: right;\">\n",
       "      <th></th>\n",
       "      <th>Borough</th>\n",
       "      <th>Neighbourhood</th>\n",
       "      <th>Latitude</th>\n",
       "      <th>Longitude</th>\n",
       "      <th>Cluster</th>\n",
       "      <th>top_1_venue</th>\n",
       "      <th>top_2_venue</th>\n",
       "      <th>top_3_venue</th>\n",
       "    </tr>\n",
       "  </thead>\n",
       "  <tbody>\n",
       "    <tr>\n",
       "      <th>0</th>\n",
       "      <td>Downtown Toronto</td>\n",
       "      <td>Regent Park, Harbourfront</td>\n",
       "      <td>43.65514</td>\n",
       "      <td>-79.36265</td>\n",
       "      <td>1</td>\n",
       "      <td>Breakfast Spot</td>\n",
       "      <td>Yoga Studio</td>\n",
       "      <td>Bakery</td>\n",
       "    </tr>\n",
       "    <tr>\n",
       "      <th>1</th>\n",
       "      <td>Downtown Toronto</td>\n",
       "      <td>Queen's Park, Ontario Provincial Government</td>\n",
       "      <td>43.66449</td>\n",
       "      <td>-79.39302</td>\n",
       "      <td>1</td>\n",
       "      <td>Gym</td>\n",
       "      <td>Park</td>\n",
       "      <td>Theater</td>\n",
       "    </tr>\n",
       "    <tr>\n",
       "      <th>2</th>\n",
       "      <td>Downtown Toronto</td>\n",
       "      <td>Garden District, Ryerson</td>\n",
       "      <td>43.65736</td>\n",
       "      <td>-79.37818</td>\n",
       "      <td>1</td>\n",
       "      <td>Coffee Shop</td>\n",
       "      <td>Middle Eastern Restaurant</td>\n",
       "      <td>Café</td>\n",
       "    </tr>\n",
       "    <tr>\n",
       "      <th>3</th>\n",
       "      <td>Downtown Toronto</td>\n",
       "      <td>St. James Town</td>\n",
       "      <td>43.65143</td>\n",
       "      <td>-79.37557</td>\n",
       "      <td>1</td>\n",
       "      <td>Italian Restaurant</td>\n",
       "      <td>Coffee Shop</td>\n",
       "      <td>Gastropub</td>\n",
       "    </tr>\n",
       "    <tr>\n",
       "      <th>4</th>\n",
       "      <td>East Toronto</td>\n",
       "      <td>The Beaches</td>\n",
       "      <td>43.67703</td>\n",
       "      <td>-79.29542</td>\n",
       "      <td>1</td>\n",
       "      <td>Trail</td>\n",
       "      <td>Yoga Studio</td>\n",
       "      <td>Dumpling Restaurant</td>\n",
       "    </tr>\n",
       "  </tbody>\n",
       "</table>\n",
       "</div>"
      ],
      "text/plain": [
       "            Borough                                Neighbourhood  Latitude  \\\n",
       "0  Downtown Toronto                    Regent Park, Harbourfront  43.65514   \n",
       "1  Downtown Toronto  Queen's Park, Ontario Provincial Government  43.66449   \n",
       "2  Downtown Toronto                     Garden District, Ryerson  43.65736   \n",
       "3  Downtown Toronto                               St. James Town  43.65143   \n",
       "4      East Toronto                                  The Beaches  43.67703   \n",
       "\n",
       "   Longitude Cluster         top_1_venue                top_2_venue  \\\n",
       "0  -79.36265       1      Breakfast Spot                Yoga Studio   \n",
       "1  -79.39302       1                 Gym                       Park   \n",
       "2  -79.37818       1         Coffee Shop  Middle Eastern Restaurant   \n",
       "3  -79.37557       1  Italian Restaurant                Coffee Shop   \n",
       "4  -79.29542       1               Trail                Yoga Studio   \n",
       "\n",
       "           top_3_venue  \n",
       "0               Bakery  \n",
       "1              Theater  \n",
       "2                 Café  \n",
       "3            Gastropub  \n",
       "4  Dumpling Restaurant  "
      ]
     },
     "execution_count": 153,
     "metadata": {},
     "output_type": "execute_result"
    }
   ],
   "source": [
    "toronto = df_toronto[['Borough','Neighbourhood','Latitude','Longitude']]\n",
    "toronto = toronto.join(toronto_clustered.set_index('Neighbourhood'), on='Neighbourhood', how='right')\n",
    "toronto.head()"
   ]
  },
  {
   "cell_type": "markdown",
   "metadata": {},
   "source": [
    "group by clusters"
   ]
  },
  {
   "cell_type": "code",
   "execution_count": 154,
   "metadata": {},
   "outputs": [
    {
     "data": {
      "text/html": [
       "<div>\n",
       "<style scoped>\n",
       "    .dataframe tbody tr th:only-of-type {\n",
       "        vertical-align: middle;\n",
       "    }\n",
       "\n",
       "    .dataframe tbody tr th {\n",
       "        vertical-align: top;\n",
       "    }\n",
       "\n",
       "    .dataframe thead th {\n",
       "        text-align: right;\n",
       "    }\n",
       "</style>\n",
       "<table border=\"1\" class=\"dataframe\">\n",
       "  <thead>\n",
       "    <tr style=\"text-align: right;\">\n",
       "      <th></th>\n",
       "      <th>Cluster</th>\n",
       "      <th>Borough</th>\n",
       "      <th>Neighbourhood</th>\n",
       "      <th>Latitude</th>\n",
       "      <th>Longitude</th>\n",
       "      <th>top_1_venue</th>\n",
       "      <th>top_2_venue</th>\n",
       "      <th>top_3_venue</th>\n",
       "    </tr>\n",
       "  </thead>\n",
       "  <tbody>\n",
       "    <tr>\n",
       "      <th>0</th>\n",
       "      <td>0</td>\n",
       "      <td>Central Toronto</td>\n",
       "      <td>Moore Park, Summerhill East</td>\n",
       "      <td>43.69066</td>\n",
       "      <td>-79.38356</td>\n",
       "      <td>Sports Club</td>\n",
       "      <td>Park</td>\n",
       "      <td>Dumpling Restaurant</td>\n",
       "    </tr>\n",
       "    <tr>\n",
       "      <th>1</th>\n",
       "      <td>0</td>\n",
       "      <td>West Toronto</td>\n",
       "      <td>High Park, The Junction South</td>\n",
       "      <td>43.65994</td>\n",
       "      <td>-79.46302</td>\n",
       "      <td>Park</td>\n",
       "      <td>Yoga Studio</td>\n",
       "      <td>Dumpling Restaurant</td>\n",
       "    </tr>\n",
       "    <tr>\n",
       "      <th>2</th>\n",
       "      <td>1</td>\n",
       "      <td>Downtown Toronto</td>\n",
       "      <td>Regent Park, Harbourfront</td>\n",
       "      <td>43.65514</td>\n",
       "      <td>-79.36265</td>\n",
       "      <td>Breakfast Spot</td>\n",
       "      <td>Yoga Studio</td>\n",
       "      <td>Bakery</td>\n",
       "    </tr>\n",
       "    <tr>\n",
       "      <th>3</th>\n",
       "      <td>1</td>\n",
       "      <td>Downtown Toronto</td>\n",
       "      <td>First Canadian Place, Underground city</td>\n",
       "      <td>43.64828</td>\n",
       "      <td>-79.38146</td>\n",
       "      <td>Coffee Shop</td>\n",
       "      <td>Deli / Bodega</td>\n",
       "      <td>Gym</td>\n",
       "    </tr>\n",
       "    <tr>\n",
       "      <th>4</th>\n",
       "      <td>1</td>\n",
       "      <td>Downtown Toronto</td>\n",
       "      <td>St. James Town, Cabbagetown</td>\n",
       "      <td>43.66788</td>\n",
       "      <td>-79.36649</td>\n",
       "      <td>Convenience Store</td>\n",
       "      <td>Café</td>\n",
       "      <td>General Entertainment</td>\n",
       "    </tr>\n",
       "  </tbody>\n",
       "</table>\n",
       "</div>"
      ],
      "text/plain": [
       "  Cluster           Borough                           Neighbourhood  Latitude  \\\n",
       "0       0   Central Toronto             Moore Park, Summerhill East  43.69066   \n",
       "1       0      West Toronto           High Park, The Junction South  43.65994   \n",
       "2       1  Downtown Toronto               Regent Park, Harbourfront  43.65514   \n",
       "3       1  Downtown Toronto  First Canadian Place, Underground city  43.64828   \n",
       "4       1  Downtown Toronto             St. James Town, Cabbagetown  43.66788   \n",
       "\n",
       "   Longitude        top_1_venue    top_2_venue            top_3_venue  \n",
       "0  -79.38356        Sports Club           Park    Dumpling Restaurant  \n",
       "1  -79.46302               Park    Yoga Studio    Dumpling Restaurant  \n",
       "2  -79.36265     Breakfast Spot    Yoga Studio                 Bakery  \n",
       "3  -79.38146        Coffee Shop  Deli / Bodega                    Gym  \n",
       "4  -79.36649  Convenience Store           Café  General Entertainment  "
      ]
     },
     "execution_count": 154,
     "metadata": {},
     "output_type": "execute_result"
    }
   ],
   "source": [
    "# move cluster column to front\n",
    "fixed_columns = [toronto.columns[4]] + list(toronto.columns[0:4]) + list(toronto.columns[5:])\n",
    "toronto_cluster = toronto[fixed_columns]\n",
    "\n",
    "# group by cluster\n",
    "toronto_cluster.sort_values(by='Cluster', inplace=True)\n",
    "toronto_cluster.reset_index(drop=True, inplace=True)\n",
    "toronto_cluster.head()"
   ]
  },
  {
   "cell_type": "markdown",
   "metadata": {},
   "source": [
    "How were the neighbourhoods classified:"
   ]
  },
  {
   "cell_type": "code",
   "execution_count": 155,
   "metadata": {},
   "outputs": [
    {
     "data": {
      "text/plain": [
       "1    32\n",
       "0     2\n",
       "2     1\n",
       "Name: Cluster, dtype: int64"
      ]
     },
     "execution_count": 155,
     "metadata": {},
     "output_type": "execute_result"
    }
   ],
   "source": [
    "toronto_cluster['Cluster'].value_counts()"
   ]
  },
  {
   "cell_type": "markdown",
   "metadata": {},
   "source": [
    "What was the main factor for each cluster:"
   ]
  },
  {
   "cell_type": "code",
   "execution_count": 161,
   "metadata": {},
   "outputs": [
    {
     "data": {
      "text/plain": [
       "Park                   2\n",
       "Dumpling Restaurant    2\n",
       "Yoga Studio            1\n",
       "Name: value, dtype: int64"
      ]
     },
     "execution_count": 161,
     "metadata": {},
     "output_type": "execute_result"
    }
   ],
   "source": [
    "cluster0 = pd.melt(toronto_cluster[toronto_cluster['Cluster']==0][['top_1_venue','top_2_venue','top_3_venue']])['value'].value_counts()\n",
    "cluster0[0:3]"
   ]
  },
  {
   "cell_type": "code",
   "execution_count": 162,
   "metadata": {},
   "outputs": [
    {
     "data": {
      "text/plain": [
       "Café           12\n",
       "Coffee Shop    11\n",
       "Yoga Studio     7\n",
       "Name: value, dtype: int64"
      ]
     },
     "execution_count": 162,
     "metadata": {},
     "output_type": "execute_result"
    }
   ],
   "source": [
    "cluster1 = pd.melt(toronto_cluster[toronto_cluster['Cluster']==1][['top_1_venue','top_2_venue','top_3_venue']])['value'].value_counts()\n",
    "cluster1[0:3]"
   ]
  },
  {
   "cell_type": "code",
   "execution_count": 163,
   "metadata": {},
   "outputs": [
    {
     "data": {
      "text/plain": [
       "Yoga Studio             1\n",
       "Scenic Lookout          1\n",
       "Ethiopian Restaurant    1\n",
       "Name: value, dtype: int64"
      ]
     },
     "execution_count": 163,
     "metadata": {},
     "output_type": "execute_result"
    }
   ],
   "source": [
    "cluster2 = pd.melt(toronto_cluster[toronto_cluster['Cluster']==2][['top_1_venue','top_2_venue','top_3_venue']])['value'].value_counts()\n",
    "cluster2[0:3]"
   ]
  },
  {
   "cell_type": "markdown",
   "metadata": {},
   "source": [
    "\\* it seems that:<br>\n",
    "    - first cluster contains neighbourhoods where parks are most common<br>\n",
    "    - second cluster contains neighbourhoods where cafe's are most common<br>\n",
    "    - and third cluster contains neighbourhoods with no cafes or parks"
   ]
  },
  {
   "cell_type": "markdown",
   "metadata": {},
   "source": [
    "#### Create map showing different clusters"
   ]
  },
  {
   "cell_type": "code",
   "execution_count": 164,
   "metadata": {},
   "outputs": [],
   "source": [
    "import folium"
   ]
  },
  {
   "cell_type": "code",
   "execution_count": 165,
   "metadata": {},
   "outputs": [
    {
     "data": {
      "text/html": [
       "<div style=\"width:100%;\"><div style=\"position:relative;width:100%;height:0;padding-bottom:60%;\"><span style=\"color:#565656\">Make this Notebook Trusted to load map: File -> Trust Notebook</span><iframe src=\"about:blank\" style=\"position:absolute;width:100%;height:100%;left:0;top:0;border:none !important;\" data-html=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 onload=\"this.contentDocument.open();this.contentDocument.write(atob(this.getAttribute('data-html')));this.contentDocument.close();\" allowfullscreen webkitallowfullscreen mozallowfullscreen></iframe></div></div>"
      ],
      "text/plain": [
       "<folium.folium.Map at 0x2674bdee908>"
      ]
     },
     "execution_count": 165,
     "metadata": {},
     "output_type": "execute_result"
    }
   ],
   "source": [
    "toronto_map = folium.Map([toronto_cluster['Latitude'].median(), toronto_cluster['Longitude'].median()], zoom_start=12)\n",
    "\n",
    "colors = ['red', 'blue', 'green', 'magenta']\n",
    "\n",
    "for i in range(toronto_cluster.shape[0]):\n",
    "        folium.CircleMarker(\n",
    "        [toronto_cluster.loc[i, 'Latitude'], toronto_cluster.loc[i, 'Longitude']],\n",
    "        color = colors[int(toronto_cluster.loc[i, 'Cluster'])],\n",
    "        radius = 5,\n",
    "        fill = True,\n",
    "        fill_color = colors[int(toronto_cluster.loc[i, 'Cluster'])],\n",
    "        fill_opacity = 0.7,\n",
    "        popup = toronto_cluster.loc[i, 'Neighbourhood']\n",
    "    ).add_to(toronto_map)\n",
    "\n",
    "toronto_map"
   ]
  },
  {
   "cell_type": "code",
   "execution_count": null,
   "metadata": {},
   "outputs": [],
   "source": []
  }
 ],
 "metadata": {
  "kernelspec": {
   "display_name": "Python 3",
   "language": "python",
   "name": "python3"
  },
  "language_info": {
   "codemirror_mode": {
    "name": "ipython",
    "version": 3
   },
   "file_extension": ".py",
   "mimetype": "text/x-python",
   "name": "python",
   "nbconvert_exporter": "python",
   "pygments_lexer": "ipython3",
   "version": "3.7.6"
  }
 },
 "nbformat": 4,
 "nbformat_minor": 4
}
