{
 "cells": [
  {
   "cell_type": "markdown",
   "metadata": {},
   "source": [
    "# Segmenting and Clustering Neighborhoods in Toronto"
   ]
  },
  {
   "cell_type": "markdown",
   "metadata": {},
   "source": [
    "### Scrape information from the wikipedia page on Toronto neighborhoods"
   ]
  },
  {
   "cell_type": "markdown",
   "metadata": {},
   "source": [
    "- use BeautifulSoup for webscrapping the table"
   ]
  },
  {
   "cell_type": "markdown",
   "metadata": {},
   "source": [
    "import libraries"
   ]
  },
  {
   "cell_type": "code",
   "execution_count": 1,
   "metadata": {},
   "outputs": [],
   "source": [
    "from bs4 import BeautifulSoup\n",
    "import requests\n",
    "import pandas as pd"
   ]
  },
  {
   "cell_type": "markdown",
   "metadata": {},
   "source": [
    "website for scrapping:"
   ]
  },
  {
   "cell_type": "code",
   "execution_count": 2,
   "metadata": {},
   "outputs": [],
   "source": [
    "url = 'https://en.wikipedia.org/wiki/List_of_postal_codes_of_Canada:_M'"
   ]
  },
  {
   "cell_type": "markdown",
   "metadata": {},
   "source": [
    "getting the entire website as lxml:"
   ]
  },
  {
   "cell_type": "code",
   "execution_count": 3,
   "metadata": {},
   "outputs": [],
   "source": [
    "html_content = requests.get(url)"
   ]
  },
  {
   "cell_type": "markdown",
   "metadata": {},
   "source": [
    "get text from the website"
   ]
  },
  {
   "cell_type": "code",
   "execution_count": 4,
   "metadata": {},
   "outputs": [],
   "source": [
    "content = html_content.text\n",
    "soup = BeautifulSoup(content, 'lxml')"
   ]
  },
  {
   "cell_type": "markdown",
   "metadata": {},
   "source": [
    "find table:"
   ]
  },
  {
   "cell_type": "code",
   "execution_count": 5,
   "metadata": {},
   "outputs": [],
   "source": [
    "# find table on the website\n",
    "table = soup.find(\"table\", attrs = {\"class\": \"wikitable sortable\"})"
   ]
  },
  {
   "cell_type": "markdown",
   "metadata": {},
   "source": [
    "get table headers:"
   ]
  },
  {
   "cell_type": "code",
   "execution_count": 6,
   "metadata": {},
   "outputs": [
    {
     "data": {
      "text/plain": [
       "['Postal Code', 'Borough', 'Neighbourhood']"
      ]
     },
     "execution_count": 6,
     "metadata": {},
     "output_type": "execute_result"
    }
   ],
   "source": [
    "t_headers = []\n",
    "for th in table.find_all(\"th\"):\n",
    "    t_headers.append(th.text.replace(\"\\n\",' ').strip())\n",
    "\n",
    "t_headers"
   ]
  },
  {
   "cell_type": "markdown",
   "metadata": {},
   "source": [
    "get data from table into a dictionary:"
   ]
  },
  {
   "cell_type": "code",
   "execution_count": 7,
   "metadata": {},
   "outputs": [],
   "source": [
    "table_data = []\n",
    "for tr in table.tbody.find_all(\"tr\"): # each row in tbody of table is tr\n",
    "    t_row = {}\n",
    "    for td, th in zip(tr.find_all(\"td\"), t_headers): # each cell in row is td\n",
    "        t_row[th] = td.text.replace('\\n','').strip()\n",
    "    table_data.append(t_row)"
   ]
  },
  {
   "cell_type": "markdown",
   "metadata": {},
   "source": [
    "### Wrangle the data"
   ]
  },
  {
   "cell_type": "code",
   "execution_count": 8,
   "metadata": {},
   "outputs": [],
   "source": [
    "table_data = table_data[1:]  # remove first row (it is empty)"
   ]
  },
  {
   "cell_type": "markdown",
   "metadata": {},
   "source": [
    "Convert dictionary into a dataframe:"
   ]
  },
  {
   "cell_type": "code",
   "execution_count": 9,
   "metadata": {},
   "outputs": [
    {
     "data": {
      "text/html": [
       "<div>\n",
       "<style scoped>\n",
       "    .dataframe tbody tr th:only-of-type {\n",
       "        vertical-align: middle;\n",
       "    }\n",
       "\n",
       "    .dataframe tbody tr th {\n",
       "        vertical-align: top;\n",
       "    }\n",
       "\n",
       "    .dataframe thead th {\n",
       "        text-align: right;\n",
       "    }\n",
       "</style>\n",
       "<table border=\"1\" class=\"dataframe\">\n",
       "  <thead>\n",
       "    <tr style=\"text-align: right;\">\n",
       "      <th></th>\n",
       "      <th>Postal Code</th>\n",
       "      <th>Borough</th>\n",
       "      <th>Neighbourhood</th>\n",
       "    </tr>\n",
       "  </thead>\n",
       "  <tbody>\n",
       "    <tr>\n",
       "      <th>0</th>\n",
       "      <td>M1A</td>\n",
       "      <td>Not assigned</td>\n",
       "      <td>Not assigned</td>\n",
       "    </tr>\n",
       "    <tr>\n",
       "      <th>1</th>\n",
       "      <td>M2A</td>\n",
       "      <td>Not assigned</td>\n",
       "      <td>Not assigned</td>\n",
       "    </tr>\n",
       "    <tr>\n",
       "      <th>2</th>\n",
       "      <td>M3A</td>\n",
       "      <td>North York</td>\n",
       "      <td>Parkwoods</td>\n",
       "    </tr>\n",
       "    <tr>\n",
       "      <th>3</th>\n",
       "      <td>M4A</td>\n",
       "      <td>North York</td>\n",
       "      <td>Victoria Village</td>\n",
       "    </tr>\n",
       "    <tr>\n",
       "      <th>4</th>\n",
       "      <td>M5A</td>\n",
       "      <td>Downtown Toronto</td>\n",
       "      <td>Regent Park, Harbourfront</td>\n",
       "    </tr>\n",
       "  </tbody>\n",
       "</table>\n",
       "</div>"
      ],
      "text/plain": [
       "  Postal Code           Borough              Neighbourhood\n",
       "0         M1A      Not assigned               Not assigned\n",
       "1         M2A      Not assigned               Not assigned\n",
       "2         M3A        North York                  Parkwoods\n",
       "3         M4A        North York           Victoria Village\n",
       "4         M5A  Downtown Toronto  Regent Park, Harbourfront"
      ]
     },
     "execution_count": 9,
     "metadata": {},
     "output_type": "execute_result"
    }
   ],
   "source": [
    "df_table = pd.DataFrame(table_data)\n",
    "df_table.head()"
   ]
  },
  {
   "cell_type": "code",
   "execution_count": 10,
   "metadata": {},
   "outputs": [
    {
     "data": {
      "text/plain": [
       "(180, 3)"
      ]
     },
     "execution_count": 10,
     "metadata": {},
     "output_type": "execute_result"
    }
   ],
   "source": [
    "df_table.shape"
   ]
  },
  {
   "cell_type": "markdown",
   "metadata": {},
   "source": [
    "Remove rows where Borough is Not assigned:"
   ]
  },
  {
   "cell_type": "code",
   "execution_count": 11,
   "metadata": {},
   "outputs": [
    {
     "data": {
      "text/html": [
       "<div>\n",
       "<style scoped>\n",
       "    .dataframe tbody tr th:only-of-type {\n",
       "        vertical-align: middle;\n",
       "    }\n",
       "\n",
       "    .dataframe tbody tr th {\n",
       "        vertical-align: top;\n",
       "    }\n",
       "\n",
       "    .dataframe thead th {\n",
       "        text-align: right;\n",
       "    }\n",
       "</style>\n",
       "<table border=\"1\" class=\"dataframe\">\n",
       "  <thead>\n",
       "    <tr style=\"text-align: right;\">\n",
       "      <th></th>\n",
       "      <th>Postal Code</th>\n",
       "      <th>Borough</th>\n",
       "      <th>Neighbourhood</th>\n",
       "    </tr>\n",
       "  </thead>\n",
       "  <tbody>\n",
       "    <tr>\n",
       "      <th>2</th>\n",
       "      <td>M3A</td>\n",
       "      <td>North York</td>\n",
       "      <td>Parkwoods</td>\n",
       "    </tr>\n",
       "    <tr>\n",
       "      <th>3</th>\n",
       "      <td>M4A</td>\n",
       "      <td>North York</td>\n",
       "      <td>Victoria Village</td>\n",
       "    </tr>\n",
       "    <tr>\n",
       "      <th>4</th>\n",
       "      <td>M5A</td>\n",
       "      <td>Downtown Toronto</td>\n",
       "      <td>Regent Park, Harbourfront</td>\n",
       "    </tr>\n",
       "    <tr>\n",
       "      <th>5</th>\n",
       "      <td>M6A</td>\n",
       "      <td>North York</td>\n",
       "      <td>Lawrence Manor, Lawrence Heights</td>\n",
       "    </tr>\n",
       "    <tr>\n",
       "      <th>6</th>\n",
       "      <td>M7A</td>\n",
       "      <td>Downtown Toronto</td>\n",
       "      <td>Queen's Park, Ontario Provincial Government</td>\n",
       "    </tr>\n",
       "  </tbody>\n",
       "</table>\n",
       "</div>"
      ],
      "text/plain": [
       "  Postal Code           Borough                                Neighbourhood\n",
       "2         M3A        North York                                    Parkwoods\n",
       "3         M4A        North York                             Victoria Village\n",
       "4         M5A  Downtown Toronto                    Regent Park, Harbourfront\n",
       "5         M6A        North York             Lawrence Manor, Lawrence Heights\n",
       "6         M7A  Downtown Toronto  Queen's Park, Ontario Provincial Government"
      ]
     },
     "execution_count": 11,
     "metadata": {},
     "output_type": "execute_result"
    }
   ],
   "source": [
    "df_table = df_table[df_table['Borough']!='Not assigned']\n",
    "df_table.head()"
   ]
  },
  {
   "cell_type": "code",
   "execution_count": 12,
   "metadata": {},
   "outputs": [
    {
     "data": {
      "text/plain": [
       "(103, 3)"
      ]
     },
     "execution_count": 12,
     "metadata": {},
     "output_type": "execute_result"
    }
   ],
   "source": [
    "df_table.shape"
   ]
  },
  {
   "cell_type": "markdown",
   "metadata": {},
   "source": [
    "Combine rows with same Postal Code/Borough:"
   ]
  },
  {
   "cell_type": "code",
   "execution_count": 13,
   "metadata": {},
   "outputs": [
    {
     "data": {
      "text/html": [
       "<div>\n",
       "<style scoped>\n",
       "    .dataframe tbody tr th:only-of-type {\n",
       "        vertical-align: middle;\n",
       "    }\n",
       "\n",
       "    .dataframe tbody tr th {\n",
       "        vertical-align: top;\n",
       "    }\n",
       "\n",
       "    .dataframe thead th {\n",
       "        text-align: right;\n",
       "    }\n",
       "</style>\n",
       "<table border=\"1\" class=\"dataframe\">\n",
       "  <thead>\n",
       "    <tr style=\"text-align: right;\">\n",
       "      <th></th>\n",
       "      <th>Postal Code</th>\n",
       "      <th>Borough</th>\n",
       "      <th>Neighbourhood</th>\n",
       "    </tr>\n",
       "  </thead>\n",
       "  <tbody>\n",
       "    <tr>\n",
       "      <th>0</th>\n",
       "      <td>M3A</td>\n",
       "      <td>North York</td>\n",
       "      <td>Parkwoods</td>\n",
       "    </tr>\n",
       "    <tr>\n",
       "      <th>1</th>\n",
       "      <td>M4A</td>\n",
       "      <td>North York</td>\n",
       "      <td>Victoria Village</td>\n",
       "    </tr>\n",
       "    <tr>\n",
       "      <th>2</th>\n",
       "      <td>M5A</td>\n",
       "      <td>Downtown Toronto</td>\n",
       "      <td>Regent Park, Harbourfront</td>\n",
       "    </tr>\n",
       "    <tr>\n",
       "      <th>3</th>\n",
       "      <td>M6A</td>\n",
       "      <td>North York</td>\n",
       "      <td>Lawrence Manor, Lawrence Heights</td>\n",
       "    </tr>\n",
       "    <tr>\n",
       "      <th>4</th>\n",
       "      <td>M7A</td>\n",
       "      <td>Downtown Toronto</td>\n",
       "      <td>Queen's Park, Ontario Provincial Government</td>\n",
       "    </tr>\n",
       "  </tbody>\n",
       "</table>\n",
       "</div>"
      ],
      "text/plain": [
       "  Postal Code           Borough                                Neighbourhood\n",
       "0         M3A        North York                                    Parkwoods\n",
       "1         M4A        North York                             Victoria Village\n",
       "2         M5A  Downtown Toronto                    Regent Park, Harbourfront\n",
       "3         M6A        North York             Lawrence Manor, Lawrence Heights\n",
       "4         M7A  Downtown Toronto  Queen's Park, Ontario Provincial Government"
      ]
     },
     "execution_count": 13,
     "metadata": {},
     "output_type": "execute_result"
    }
   ],
   "source": [
    "df_table = pd.DataFrame(df_table.groupby(['Postal Code','Borough'], sort=False)['Neighbourhood'].apply(', '.join))\n",
    "df_table.reset_index(inplace=True)\n",
    "df_table.head()"
   ]
  },
  {
   "cell_type": "code",
   "execution_count": 14,
   "metadata": {},
   "outputs": [
    {
     "data": {
      "text/plain": [
       "(103, 3)"
      ]
     },
     "execution_count": 14,
     "metadata": {},
     "output_type": "execute_result"
    }
   ],
   "source": [
    "df_table.shape"
   ]
  },
  {
   "cell_type": "markdown",
   "metadata": {},
   "source": [
    "\\* seems that there was no repeating Postal Code"
   ]
  },
  {
   "cell_type": "markdown",
   "metadata": {},
   "source": [
    "For the rows with Not assigned Neighbourhood, apply Borough as the Neighbourhood name:"
   ]
  },
  {
   "cell_type": "code",
   "execution_count": 15,
   "metadata": {},
   "outputs": [],
   "source": [
    "df_table.loc[df_table['Neighbourhood']=='Not assigned','Neighbourhood'] = df_table.loc[df_table['Neighbourhood']=='Not assigned','Borough']"
   ]
  },
  {
   "cell_type": "markdown",
   "metadata": {},
   "source": [
    "Number of rows obtained after wrangling of the data:"
   ]
  },
  {
   "cell_type": "code",
   "execution_count": 16,
   "metadata": {},
   "outputs": [
    {
     "name": "stdout",
     "output_type": "stream",
     "text": [
      "There is 103 rows in the dataframe\n"
     ]
    }
   ],
   "source": [
    "print('There is {} rows in the dataframe'.format(df_table.shape[0]))"
   ]
  },
  {
   "cell_type": "markdown",
   "metadata": {},
   "source": [
    "## Get spacial coordinates"
   ]
  },
  {
   "cell_type": "markdown",
   "metadata": {},
   "source": [
    "- obtain spatial coordinates for each neighbourhood"
   ]
  },
  {
   "cell_type": "code",
   "execution_count": 17,
   "metadata": {},
   "outputs": [],
   "source": [
    "import geocoder"
   ]
  },
  {
   "cell_type": "markdown",
   "metadata": {},
   "source": [
    "loop through all the rows and get coordinates based on post code:"
   ]
  },
  {
   "cell_type": "code",
   "execution_count": 18,
   "metadata": {},
   "outputs": [],
   "source": [
    "for idx, address in enumerate(df_table['Postal Code']):\n",
    "    address_full = address + ', Toronto, Ontario, Canada'\n",
    "    \n",
    "    coord = None\n",
    "    i = 0\n",
    "    while coord == None or i==20:\n",
    "        coord = geocoder.arcgis(address_full).latlng\n",
    "        i+=1\n",
    "    df_table.loc[idx, 'Latitude'] = coord[0]\n",
    "    df_table.loc[idx, 'Longitude'] = coord[1]"
   ]
  },
  {
   "cell_type": "code",
   "execution_count": 19,
   "metadata": {},
   "outputs": [
    {
     "data": {
      "text/html": [
       "<div>\n",
       "<style scoped>\n",
       "    .dataframe tbody tr th:only-of-type {\n",
       "        vertical-align: middle;\n",
       "    }\n",
       "\n",
       "    .dataframe tbody tr th {\n",
       "        vertical-align: top;\n",
       "    }\n",
       "\n",
       "    .dataframe thead th {\n",
       "        text-align: right;\n",
       "    }\n",
       "</style>\n",
       "<table border=\"1\" class=\"dataframe\">\n",
       "  <thead>\n",
       "    <tr style=\"text-align: right;\">\n",
       "      <th></th>\n",
       "      <th>Postal Code</th>\n",
       "      <th>Borough</th>\n",
       "      <th>Neighbourhood</th>\n",
       "      <th>Latitude</th>\n",
       "      <th>Longitude</th>\n",
       "    </tr>\n",
       "  </thead>\n",
       "  <tbody>\n",
       "    <tr>\n",
       "      <th>0</th>\n",
       "      <td>M3A</td>\n",
       "      <td>North York</td>\n",
       "      <td>Parkwoods</td>\n",
       "      <td>43.75188</td>\n",
       "      <td>-79.33036</td>\n",
       "    </tr>\n",
       "    <tr>\n",
       "      <th>1</th>\n",
       "      <td>M4A</td>\n",
       "      <td>North York</td>\n",
       "      <td>Victoria Village</td>\n",
       "      <td>43.73042</td>\n",
       "      <td>-79.31282</td>\n",
       "    </tr>\n",
       "    <tr>\n",
       "      <th>2</th>\n",
       "      <td>M5A</td>\n",
       "      <td>Downtown Toronto</td>\n",
       "      <td>Regent Park, Harbourfront</td>\n",
       "      <td>43.65514</td>\n",
       "      <td>-79.36265</td>\n",
       "    </tr>\n",
       "    <tr>\n",
       "      <th>3</th>\n",
       "      <td>M6A</td>\n",
       "      <td>North York</td>\n",
       "      <td>Lawrence Manor, Lawrence Heights</td>\n",
       "      <td>43.72321</td>\n",
       "      <td>-79.45141</td>\n",
       "    </tr>\n",
       "    <tr>\n",
       "      <th>4</th>\n",
       "      <td>M7A</td>\n",
       "      <td>Downtown Toronto</td>\n",
       "      <td>Queen's Park, Ontario Provincial Government</td>\n",
       "      <td>43.66449</td>\n",
       "      <td>-79.39302</td>\n",
       "    </tr>\n",
       "  </tbody>\n",
       "</table>\n",
       "</div>"
      ],
      "text/plain": [
       "  Postal Code           Borough                                Neighbourhood  \\\n",
       "0         M3A        North York                                    Parkwoods   \n",
       "1         M4A        North York                             Victoria Village   \n",
       "2         M5A  Downtown Toronto                    Regent Park, Harbourfront   \n",
       "3         M6A        North York             Lawrence Manor, Lawrence Heights   \n",
       "4         M7A  Downtown Toronto  Queen's Park, Ontario Provincial Government   \n",
       "\n",
       "   Latitude  Longitude  \n",
       "0  43.75188  -79.33036  \n",
       "1  43.73042  -79.31282  \n",
       "2  43.65514  -79.36265  \n",
       "3  43.72321  -79.45141  \n",
       "4  43.66449  -79.39302  "
      ]
     },
     "execution_count": 19,
     "metadata": {},
     "output_type": "execute_result"
    }
   ],
   "source": [
    "df_table.head()"
   ]
  },
  {
   "cell_type": "markdown",
   "metadata": {},
   "source": [
    "### Explore and cluster the neighborhoods in Toronto"
   ]
  },
  {
   "cell_type": "markdown",
   "metadata": {},
   "source": [
    "Filter the neighbourhoods to get only those located in Toronto city"
   ]
  },
  {
   "cell_type": "code",
   "execution_count": 20,
   "metadata": {},
   "outputs": [
    {
     "name": "stderr",
     "output_type": "stream",
     "text": [
      "C:\\Users\\Pawel\\anaconda3\\lib\\site-packages\\pandas\\core\\frame.py:3997: SettingWithCopyWarning: \n",
      "A value is trying to be set on a copy of a slice from a DataFrame\n",
      "\n",
      "See the caveats in the documentation: https://pandas.pydata.org/pandas-docs/stable/user_guide/indexing.html#returning-a-view-versus-a-copy\n",
      "  errors=errors,\n"
     ]
    },
    {
     "data": {
      "text/html": [
       "<div>\n",
       "<style scoped>\n",
       "    .dataframe tbody tr th:only-of-type {\n",
       "        vertical-align: middle;\n",
       "    }\n",
       "\n",
       "    .dataframe tbody tr th {\n",
       "        vertical-align: top;\n",
       "    }\n",
       "\n",
       "    .dataframe thead th {\n",
       "        text-align: right;\n",
       "    }\n",
       "</style>\n",
       "<table border=\"1\" class=\"dataframe\">\n",
       "  <thead>\n",
       "    <tr style=\"text-align: right;\">\n",
       "      <th></th>\n",
       "      <th>Postal Code</th>\n",
       "      <th>Borough</th>\n",
       "      <th>Neighbourhood</th>\n",
       "      <th>Latitude</th>\n",
       "      <th>Longitude</th>\n",
       "    </tr>\n",
       "  </thead>\n",
       "  <tbody>\n",
       "    <tr>\n",
       "      <th>0</th>\n",
       "      <td>M5A</td>\n",
       "      <td>Downtown Toronto</td>\n",
       "      <td>Regent Park, Harbourfront</td>\n",
       "      <td>43.65514</td>\n",
       "      <td>-79.36265</td>\n",
       "    </tr>\n",
       "    <tr>\n",
       "      <th>1</th>\n",
       "      <td>M7A</td>\n",
       "      <td>Downtown Toronto</td>\n",
       "      <td>Queen's Park, Ontario Provincial Government</td>\n",
       "      <td>43.66449</td>\n",
       "      <td>-79.39302</td>\n",
       "    </tr>\n",
       "    <tr>\n",
       "      <th>2</th>\n",
       "      <td>M5B</td>\n",
       "      <td>Downtown Toronto</td>\n",
       "      <td>Garden District, Ryerson</td>\n",
       "      <td>43.65736</td>\n",
       "      <td>-79.37818</td>\n",
       "    </tr>\n",
       "    <tr>\n",
       "      <th>3</th>\n",
       "      <td>M5C</td>\n",
       "      <td>Downtown Toronto</td>\n",
       "      <td>St. James Town</td>\n",
       "      <td>43.65143</td>\n",
       "      <td>-79.37557</td>\n",
       "    </tr>\n",
       "    <tr>\n",
       "      <th>4</th>\n",
       "      <td>M4E</td>\n",
       "      <td>East Toronto</td>\n",
       "      <td>The Beaches</td>\n",
       "      <td>43.67703</td>\n",
       "      <td>-79.29542</td>\n",
       "    </tr>\n",
       "  </tbody>\n",
       "</table>\n",
       "</div>"
      ],
      "text/plain": [
       "  Postal Code           Borough                                Neighbourhood  \\\n",
       "0         M5A  Downtown Toronto                    Regent Park, Harbourfront   \n",
       "1         M7A  Downtown Toronto  Queen's Park, Ontario Provincial Government   \n",
       "2         M5B  Downtown Toronto                     Garden District, Ryerson   \n",
       "3         M5C  Downtown Toronto                               St. James Town   \n",
       "4         M4E      East Toronto                                  The Beaches   \n",
       "\n",
       "   Latitude  Longitude  \n",
       "0  43.65514  -79.36265  \n",
       "1  43.66449  -79.39302  \n",
       "2  43.65736  -79.37818  \n",
       "3  43.65143  -79.37557  \n",
       "4  43.67703  -79.29542  "
      ]
     },
     "execution_count": 20,
     "metadata": {},
     "output_type": "execute_result"
    }
   ],
   "source": [
    "df_toronto = df_table[df_table['Borough'].str.contains('Toronto')]\n",
    "df_toronto.reset_index(inplace=True)\n",
    "df_toronto.drop('index', axis=1, inplace=True)\n",
    "df_toronto.head()"
   ]
  },
  {
   "cell_type": "code",
   "execution_count": 21,
   "metadata": {},
   "outputs": [
    {
     "data": {
      "text/plain": [
       "(39, 5)"
      ]
     },
     "execution_count": 21,
     "metadata": {},
     "output_type": "execute_result"
    }
   ],
   "source": [
    "df_toronto.shape"
   ]
  },
  {
   "cell_type": "markdown",
   "metadata": {},
   "source": [
    "Foursquare creditentials"
   ]
  },
  {
   "cell_type": "code",
   "execution_count": 22,
   "metadata": {},
   "outputs": [],
   "source": [
    "# @hidden_cell\n",
    "CLIENT_ID = '1M5PQXOKTSFCFWJSNHRQI1X1GBPD1GM0O05QVPOSGMXGGC00' # your Foursquare ID\n",
    "CLIENT_SECRET = '1GFHFAJFE05LEJ1K3DXRFNHXER3FXPUJ3U2CQOICNBAWPUPU' # your Foursquare Secret\n",
    "VERSION = '20180605' # Foursquare API version"
   ]
  },
  {
   "cell_type": "markdown",
   "metadata": {},
   "source": [
    "Get top 100 venues located within 500m using foursquare's API"
   ]
  },
  {
   "cell_type": "code",
   "execution_count": 81,
   "metadata": {},
   "outputs": [],
   "source": [
    "LIMIT = 100\n",
    "RADIUS = 500\n",
    "\n",
    "toronto_venues = []\n",
    "\n",
    "for i in range(df_toronto.shape[0]):\n",
    "    # url request to the foursquare api\n",
    "    url = 'https://api.foursquare.com/v2/venues/explore?&client_id={}&client_secret={}&v={}&ll={},{}&radius={}&limit{}'.format(\n",
    "        CLIENT_ID, \n",
    "        CLIENT_SECRET, \n",
    "        VERSION, \n",
    "        df_toronto.loc[i,'Latitude'], \n",
    "        df_toronto.loc[i,'Longitude'], \n",
    "        RADIUS, \n",
    "        LIMIT)\n",
    "    \n",
    "    results = requests.get(url).json()['response']['groups'][0]['items']\n",
    "    \n",
    "    toronto_venues.append([(\n",
    "        df_toronto.loc[i,'Postal Code'],\n",
    "        df_toronto.loc[i,'Borough'],\n",
    "        df_toronto.loc[i,'Neighbourhood'],\n",
    "        df_toronto.loc[i,'Latitude'],\n",
    "        df_toronto.loc[i,'Longitude'], \n",
    "        result['venue']['categories'][0]['name']) for result in results])"
   ]
  },
  {
   "cell_type": "markdown",
   "metadata": {},
   "source": [
    "Convert to dataframe"
   ]
  },
  {
   "cell_type": "code",
   "execution_count": 38,
   "metadata": {},
   "outputs": [
    {
     "data": {
      "text/html": [
       "<div>\n",
       "<style scoped>\n",
       "    .dataframe tbody tr th:only-of-type {\n",
       "        vertical-align: middle;\n",
       "    }\n",
       "\n",
       "    .dataframe tbody tr th {\n",
       "        vertical-align: top;\n",
       "    }\n",
       "\n",
       "    .dataframe thead th {\n",
       "        text-align: right;\n",
       "    }\n",
       "</style>\n",
       "<table border=\"1\" class=\"dataframe\">\n",
       "  <thead>\n",
       "    <tr style=\"text-align: right;\">\n",
       "      <th></th>\n",
       "      <th>Postal Code</th>\n",
       "      <th>Borough</th>\n",
       "      <th>Neighbourhood</th>\n",
       "      <th>Latitude</th>\n",
       "      <th>Longitude</th>\n",
       "      <th>Venue</th>\n",
       "    </tr>\n",
       "  </thead>\n",
       "  <tbody>\n",
       "    <tr>\n",
       "      <th>0</th>\n",
       "      <td>M5A</td>\n",
       "      <td>Downtown Toronto</td>\n",
       "      <td>Regent Park, Harbourfront</td>\n",
       "      <td>43.65514</td>\n",
       "      <td>-79.36265</td>\n",
       "      <td>Bakery</td>\n",
       "    </tr>\n",
       "    <tr>\n",
       "      <th>1</th>\n",
       "      <td>M5A</td>\n",
       "      <td>Downtown Toronto</td>\n",
       "      <td>Regent Park, Harbourfront</td>\n",
       "      <td>43.65514</td>\n",
       "      <td>-79.36265</td>\n",
       "      <td>Coffee Shop</td>\n",
       "    </tr>\n",
       "    <tr>\n",
       "      <th>2</th>\n",
       "      <td>M5A</td>\n",
       "      <td>Downtown Toronto</td>\n",
       "      <td>Regent Park, Harbourfront</td>\n",
       "      <td>43.65514</td>\n",
       "      <td>-79.36265</td>\n",
       "      <td>Breakfast Spot</td>\n",
       "    </tr>\n",
       "    <tr>\n",
       "      <th>3</th>\n",
       "      <td>M5A</td>\n",
       "      <td>Downtown Toronto</td>\n",
       "      <td>Regent Park, Harbourfront</td>\n",
       "      <td>43.65514</td>\n",
       "      <td>-79.36265</td>\n",
       "      <td>Yoga Studio</td>\n",
       "    </tr>\n",
       "    <tr>\n",
       "      <th>4</th>\n",
       "      <td>M5A</td>\n",
       "      <td>Downtown Toronto</td>\n",
       "      <td>Regent Park, Harbourfront</td>\n",
       "      <td>43.65514</td>\n",
       "      <td>-79.36265</td>\n",
       "      <td>Spa</td>\n",
       "    </tr>\n",
       "  </tbody>\n",
       "</table>\n",
       "</div>"
      ],
      "text/plain": [
       "  Postal Code           Borough              Neighbourhood  Latitude  \\\n",
       "0         M5A  Downtown Toronto  Regent Park, Harbourfront  43.65514   \n",
       "1         M5A  Downtown Toronto  Regent Park, Harbourfront  43.65514   \n",
       "2         M5A  Downtown Toronto  Regent Park, Harbourfront  43.65514   \n",
       "3         M5A  Downtown Toronto  Regent Park, Harbourfront  43.65514   \n",
       "4         M5A  Downtown Toronto  Regent Park, Harbourfront  43.65514   \n",
       "\n",
       "   Longitude           Venue  \n",
       "0  -79.36265          Bakery  \n",
       "1  -79.36265     Coffee Shop  \n",
       "2  -79.36265  Breakfast Spot  \n",
       "3  -79.36265     Yoga Studio  \n",
       "4  -79.36265             Spa  "
      ]
     },
     "execution_count": 38,
     "metadata": {},
     "output_type": "execute_result"
    }
   ],
   "source": [
    "df_toronto_venues = pd.DataFrame(data=[item for venue_list in toronto_venues for item in venue_list],\n",
    "                                columns=['Postal Code', 'Borough', 'Neighbourhood','Latitude','Longitude','Venue'])\n",
    "df_toronto_venues.head()"
   ]
  },
  {
   "cell_type": "code",
   "execution_count": 71,
   "metadata": {},
   "outputs": [
    {
     "data": {
      "text/plain": [
       "(38,)"
      ]
     },
     "execution_count": 71,
     "metadata": {},
     "output_type": "execute_result"
    }
   ],
   "source": [
    "df_toronto_venues['Neighbourhood'].value_counts().shape"
   ]
  },
  {
   "cell_type": "markdown",
   "metadata": {},
   "source": [
    "perform one-hot-encoding"
   ]
  },
  {
   "cell_type": "code",
   "execution_count": 39,
   "metadata": {},
   "outputs": [
    {
     "data": {
      "text/html": [
       "<div>\n",
       "<style scoped>\n",
       "    .dataframe tbody tr th:only-of-type {\n",
       "        vertical-align: middle;\n",
       "    }\n",
       "\n",
       "    .dataframe tbody tr th {\n",
       "        vertical-align: top;\n",
       "    }\n",
       "\n",
       "    .dataframe thead th {\n",
       "        text-align: right;\n",
       "    }\n",
       "</style>\n",
       "<table border=\"1\" class=\"dataframe\">\n",
       "  <thead>\n",
       "    <tr style=\"text-align: right;\">\n",
       "      <th></th>\n",
       "      <th>Neighbourhood</th>\n",
       "      <th>American Restaurant</th>\n",
       "      <th>Antique Shop</th>\n",
       "      <th>Aquarium</th>\n",
       "      <th>Art Gallery</th>\n",
       "      <th>Art Museum</th>\n",
       "      <th>Arts &amp; Crafts Store</th>\n",
       "      <th>Asian Restaurant</th>\n",
       "      <th>BBQ Joint</th>\n",
       "      <th>Baby Store</th>\n",
       "      <th>...</th>\n",
       "      <th>Theme Restaurant</th>\n",
       "      <th>Toy / Game Store</th>\n",
       "      <th>Trail</th>\n",
       "      <th>Train Station</th>\n",
       "      <th>Vegetarian / Vegan Restaurant</th>\n",
       "      <th>Video Game Store</th>\n",
       "      <th>Vietnamese Restaurant</th>\n",
       "      <th>Wine Bar</th>\n",
       "      <th>Wine Shop</th>\n",
       "      <th>Yoga Studio</th>\n",
       "    </tr>\n",
       "  </thead>\n",
       "  <tbody>\n",
       "    <tr>\n",
       "      <th>0</th>\n",
       "      <td>Berczy Park</td>\n",
       "      <td>0</td>\n",
       "      <td>0</td>\n",
       "      <td>0</td>\n",
       "      <td>1</td>\n",
       "      <td>0</td>\n",
       "      <td>0</td>\n",
       "      <td>0</td>\n",
       "      <td>0</td>\n",
       "      <td>0</td>\n",
       "      <td>...</td>\n",
       "      <td>0</td>\n",
       "      <td>0</td>\n",
       "      <td>0</td>\n",
       "      <td>0</td>\n",
       "      <td>1</td>\n",
       "      <td>0</td>\n",
       "      <td>0</td>\n",
       "      <td>0</td>\n",
       "      <td>0</td>\n",
       "      <td>0</td>\n",
       "    </tr>\n",
       "    <tr>\n",
       "      <th>1</th>\n",
       "      <td>Brockton, Parkdale Village, Exhibition Place</td>\n",
       "      <td>0</td>\n",
       "      <td>0</td>\n",
       "      <td>0</td>\n",
       "      <td>0</td>\n",
       "      <td>0</td>\n",
       "      <td>1</td>\n",
       "      <td>0</td>\n",
       "      <td>0</td>\n",
       "      <td>0</td>\n",
       "      <td>...</td>\n",
       "      <td>0</td>\n",
       "      <td>0</td>\n",
       "      <td>0</td>\n",
       "      <td>0</td>\n",
       "      <td>1</td>\n",
       "      <td>0</td>\n",
       "      <td>0</td>\n",
       "      <td>0</td>\n",
       "      <td>0</td>\n",
       "      <td>0</td>\n",
       "    </tr>\n",
       "    <tr>\n",
       "      <th>2</th>\n",
       "      <td>Business reply mail Processing Centre, South C...</td>\n",
       "      <td>1</td>\n",
       "      <td>0</td>\n",
       "      <td>0</td>\n",
       "      <td>0</td>\n",
       "      <td>0</td>\n",
       "      <td>0</td>\n",
       "      <td>1</td>\n",
       "      <td>0</td>\n",
       "      <td>0</td>\n",
       "      <td>...</td>\n",
       "      <td>0</td>\n",
       "      <td>0</td>\n",
       "      <td>0</td>\n",
       "      <td>0</td>\n",
       "      <td>1</td>\n",
       "      <td>0</td>\n",
       "      <td>0</td>\n",
       "      <td>0</td>\n",
       "      <td>0</td>\n",
       "      <td>0</td>\n",
       "    </tr>\n",
       "    <tr>\n",
       "      <th>3</th>\n",
       "      <td>CN Tower, King and Spadina, Railway Lands, Har...</td>\n",
       "      <td>0</td>\n",
       "      <td>0</td>\n",
       "      <td>0</td>\n",
       "      <td>0</td>\n",
       "      <td>0</td>\n",
       "      <td>0</td>\n",
       "      <td>1</td>\n",
       "      <td>0</td>\n",
       "      <td>0</td>\n",
       "      <td>...</td>\n",
       "      <td>0</td>\n",
       "      <td>0</td>\n",
       "      <td>0</td>\n",
       "      <td>0</td>\n",
       "      <td>0</td>\n",
       "      <td>0</td>\n",
       "      <td>0</td>\n",
       "      <td>0</td>\n",
       "      <td>0</td>\n",
       "      <td>1</td>\n",
       "    </tr>\n",
       "    <tr>\n",
       "      <th>4</th>\n",
       "      <td>Central Bay Street</td>\n",
       "      <td>0</td>\n",
       "      <td>0</td>\n",
       "      <td>0</td>\n",
       "      <td>0</td>\n",
       "      <td>1</td>\n",
       "      <td>0</td>\n",
       "      <td>0</td>\n",
       "      <td>0</td>\n",
       "      <td>0</td>\n",
       "      <td>...</td>\n",
       "      <td>0</td>\n",
       "      <td>0</td>\n",
       "      <td>0</td>\n",
       "      <td>0</td>\n",
       "      <td>0</td>\n",
       "      <td>0</td>\n",
       "      <td>0</td>\n",
       "      <td>0</td>\n",
       "      <td>0</td>\n",
       "      <td>0</td>\n",
       "    </tr>\n",
       "  </tbody>\n",
       "</table>\n",
       "<p>5 rows × 182 columns</p>\n",
       "</div>"
      ],
      "text/plain": [
       "                                       Neighbourhood  American Restaurant  \\\n",
       "0                                        Berczy Park                    0   \n",
       "1       Brockton, Parkdale Village, Exhibition Place                    0   \n",
       "2  Business reply mail Processing Centre, South C...                    1   \n",
       "3  CN Tower, King and Spadina, Railway Lands, Har...                    0   \n",
       "4                                 Central Bay Street                    0   \n",
       "\n",
       "   Antique Shop  Aquarium  Art Gallery  Art Museum  Arts & Crafts Store  \\\n",
       "0             0         0            1           0                    0   \n",
       "1             0         0            0           0                    1   \n",
       "2             0         0            0           0                    0   \n",
       "3             0         0            0           0                    0   \n",
       "4             0         0            0           1                    0   \n",
       "\n",
       "   Asian Restaurant  BBQ Joint  Baby Store  ...  Theme Restaurant  \\\n",
       "0                 0          0           0  ...                 0   \n",
       "1                 0          0           0  ...                 0   \n",
       "2                 1          0           0  ...                 0   \n",
       "3                 1          0           0  ...                 0   \n",
       "4                 0          0           0  ...                 0   \n",
       "\n",
       "   Toy / Game Store  Trail  Train Station  Vegetarian / Vegan Restaurant  \\\n",
       "0                 0      0              0                              1   \n",
       "1                 0      0              0                              1   \n",
       "2                 0      0              0                              1   \n",
       "3                 0      0              0                              0   \n",
       "4                 0      0              0                              0   \n",
       "\n",
       "   Video Game Store  Vietnamese Restaurant  Wine Bar  Wine Shop  Yoga Studio  \n",
       "0                 0                      0         0          0            0  \n",
       "1                 0                      0         0          0            0  \n",
       "2                 0                      0         0          0            0  \n",
       "3                 0                      0         0          0            1  \n",
       "4                 0                      0         0          0            0  \n",
       "\n",
       "[5 rows x 182 columns]"
      ]
     },
     "execution_count": 39,
     "metadata": {},
     "output_type": "execute_result"
    }
   ],
   "source": [
    "# one-hot-encoding for the venues\n",
    "toronto_onehot = pd.get_dummies(df_toronto_venues[['Venue']], prefix=\"\", prefix_sep=\"\")\n",
    "\n",
    "# move neighbourhood column to the front\n",
    "toronto_onehot.insert(0, 'Neighbourhood', df_toronto_venues['Neighbourhood'])\n",
    "\n",
    "# sum up venue types for each neighbourhood\n",
    "toronto_group = toronto_onehot.groupby(['Neighbourhood']).mean().reset_index()\n",
    "\n",
    "toronto_group.head()"
   ]
  },
  {
   "cell_type": "markdown",
   "metadata": {},
   "source": [
    "#### Cluster neighbourhoods based on number of venue types"
   ]
  },
  {
   "cell_type": "markdown",
   "metadata": {},
   "source": [
    "we use k-means to group neighbourhoods in 4 groups"
   ]
  },
  {
   "cell_type": "code",
   "execution_count": 40,
   "metadata": {},
   "outputs": [],
   "source": [
    "from sklearn.cluster import KMeans"
   ]
  },
  {
   "cell_type": "code",
   "execution_count": 41,
   "metadata": {},
   "outputs": [],
   "source": [
    "# get features based on which groups will be made\n",
    "features = toronto_group.drop(['Neighbourhood'], axis=1)\n",
    "\n",
    "# create k-means model and fit our data\n",
    "kclusters = 4\n",
    "kmeans = KMeans(n_clusters=kclusters, init='k-means++', n_init=20, max_iter=500, random_state=0).fit(features)"
   ]
  },
  {
   "cell_type": "markdown",
   "metadata": {},
   "source": [
    "create new data frame with assigned cluster and top 3 venue types for each neighbourhood"
   ]
  },
  {
   "cell_type": "code",
   "execution_count": 42,
   "metadata": {},
   "outputs": [],
   "source": [
    "columns=['Cluster', 'Neighbourhood', 'top_1_venue', 'top_2_venue', 'top_3_venue']\n",
    "toronto_clustered = pd.DataFrame(columns=columns)\n",
    "for i in range(features.shape[0]):\n",
    "    toronto_clustered.loc[i,columns[0]] = kmeans.labels_[i]\n",
    "    toronto_clustered.loc[i,columns[1]] = toronto_group.loc[i, 'Neighbourhood']\n",
    "    toronto_clustered.loc[i,columns[2:5]] = features.iloc[i,:].sort_values(ascending=False).index[0:3]"
   ]
  },
  {
   "cell_type": "code",
   "execution_count": 43,
   "metadata": {},
   "outputs": [
    {
     "data": {
      "text/html": [
       "<div>\n",
       "<style scoped>\n",
       "    .dataframe tbody tr th:only-of-type {\n",
       "        vertical-align: middle;\n",
       "    }\n",
       "\n",
       "    .dataframe tbody tr th {\n",
       "        vertical-align: top;\n",
       "    }\n",
       "\n",
       "    .dataframe thead th {\n",
       "        text-align: right;\n",
       "    }\n",
       "</style>\n",
       "<table border=\"1\" class=\"dataframe\">\n",
       "  <thead>\n",
       "    <tr style=\"text-align: right;\">\n",
       "      <th></th>\n",
       "      <th>Cluster</th>\n",
       "      <th>Neighbourhood</th>\n",
       "      <th>top_1_venue</th>\n",
       "      <th>top_2_venue</th>\n",
       "      <th>top_3_venue</th>\n",
       "    </tr>\n",
       "  </thead>\n",
       "  <tbody>\n",
       "    <tr>\n",
       "      <th>0</th>\n",
       "      <td>0</td>\n",
       "      <td>Berczy Park</td>\n",
       "      <td>Seafood Restaurant</td>\n",
       "      <td>Farmers Market</td>\n",
       "      <td>Cocktail Bar</td>\n",
       "    </tr>\n",
       "    <tr>\n",
       "      <th>1</th>\n",
       "      <td>0</td>\n",
       "      <td>Brockton, Parkdale Village, Exhibition Place</td>\n",
       "      <td>Café</td>\n",
       "      <td>Furniture / Home Store</td>\n",
       "      <td>Gift Shop</td>\n",
       "    </tr>\n",
       "    <tr>\n",
       "      <th>2</th>\n",
       "      <td>2</td>\n",
       "      <td>Business reply mail Processing Centre, South C...</td>\n",
       "      <td>Steakhouse</td>\n",
       "      <td>Hotel</td>\n",
       "      <td>Restaurant</td>\n",
       "    </tr>\n",
       "    <tr>\n",
       "      <th>3</th>\n",
       "      <td>0</td>\n",
       "      <td>CN Tower, King and Spadina, Railway Lands, Har...</td>\n",
       "      <td>Italian Restaurant</td>\n",
       "      <td>Gym / Fitness Center</td>\n",
       "      <td>Restaurant</td>\n",
       "    </tr>\n",
       "    <tr>\n",
       "      <th>4</th>\n",
       "      <td>3</td>\n",
       "      <td>Central Bay Street</td>\n",
       "      <td>Coffee Shop</td>\n",
       "      <td>Pizza Place</td>\n",
       "      <td>Clothing Store</td>\n",
       "    </tr>\n",
       "  </tbody>\n",
       "</table>\n",
       "</div>"
      ],
      "text/plain": [
       "  Cluster                                      Neighbourhood  \\\n",
       "0       0                                        Berczy Park   \n",
       "1       0       Brockton, Parkdale Village, Exhibition Place   \n",
       "2       2  Business reply mail Processing Centre, South C...   \n",
       "3       0  CN Tower, King and Spadina, Railway Lands, Har...   \n",
       "4       3                                 Central Bay Street   \n",
       "\n",
       "          top_1_venue             top_2_venue     top_3_venue  \n",
       "0  Seafood Restaurant          Farmers Market    Cocktail Bar  \n",
       "1                Café  Furniture / Home Store       Gift Shop  \n",
       "2          Steakhouse                   Hotel      Restaurant  \n",
       "3  Italian Restaurant    Gym / Fitness Center      Restaurant  \n",
       "4         Coffee Shop             Pizza Place  Clothing Store  "
      ]
     },
     "execution_count": 43,
     "metadata": {},
     "output_type": "execute_result"
    }
   ],
   "source": [
    "toronto_clustered.head()"
   ]
  },
  {
   "cell_type": "markdown",
   "metadata": {},
   "source": [
    "add borough and location data"
   ]
  },
  {
   "cell_type": "code",
   "execution_count": 83,
   "metadata": {},
   "outputs": [
    {
     "data": {
      "text/html": [
       "<div>\n",
       "<style scoped>\n",
       "    .dataframe tbody tr th:only-of-type {\n",
       "        vertical-align: middle;\n",
       "    }\n",
       "\n",
       "    .dataframe tbody tr th {\n",
       "        vertical-align: top;\n",
       "    }\n",
       "\n",
       "    .dataframe thead th {\n",
       "        text-align: right;\n",
       "    }\n",
       "</style>\n",
       "<table border=\"1\" class=\"dataframe\">\n",
       "  <thead>\n",
       "    <tr style=\"text-align: right;\">\n",
       "      <th></th>\n",
       "      <th>Borough</th>\n",
       "      <th>Neighbourhood</th>\n",
       "      <th>Latitude</th>\n",
       "      <th>Longitude</th>\n",
       "      <th>Cluster</th>\n",
       "      <th>top_1_venue</th>\n",
       "      <th>top_2_venue</th>\n",
       "      <th>top_3_venue</th>\n",
       "    </tr>\n",
       "  </thead>\n",
       "  <tbody>\n",
       "    <tr>\n",
       "      <th>0</th>\n",
       "      <td>Downtown Toronto</td>\n",
       "      <td>Regent Park, Harbourfront</td>\n",
       "      <td>43.65514</td>\n",
       "      <td>-79.36265</td>\n",
       "      <td>0</td>\n",
       "      <td>Coffee Shop</td>\n",
       "      <td>Breakfast Spot</td>\n",
       "      <td>Bakery</td>\n",
       "    </tr>\n",
       "    <tr>\n",
       "      <th>1</th>\n",
       "      <td>Downtown Toronto</td>\n",
       "      <td>Queen's Park, Ontario Provincial Government</td>\n",
       "      <td>43.66449</td>\n",
       "      <td>-79.39302</td>\n",
       "      <td>3</td>\n",
       "      <td>Coffee Shop</td>\n",
       "      <td>Sandwich Place</td>\n",
       "      <td>Park</td>\n",
       "    </tr>\n",
       "    <tr>\n",
       "      <th>2</th>\n",
       "      <td>Downtown Toronto</td>\n",
       "      <td>Garden District, Ryerson</td>\n",
       "      <td>43.65736</td>\n",
       "      <td>-79.37818</td>\n",
       "      <td>3</td>\n",
       "      <td>Café</td>\n",
       "      <td>Coffee Shop</td>\n",
       "      <td>Theater</td>\n",
       "    </tr>\n",
       "    <tr>\n",
       "      <th>3</th>\n",
       "      <td>Downtown Toronto</td>\n",
       "      <td>St. James Town</td>\n",
       "      <td>43.65143</td>\n",
       "      <td>-79.37557</td>\n",
       "      <td>0</td>\n",
       "      <td>Café</td>\n",
       "      <td>Coffee Shop</td>\n",
       "      <td>Gastropub</td>\n",
       "    </tr>\n",
       "    <tr>\n",
       "      <th>4</th>\n",
       "      <td>East Toronto</td>\n",
       "      <td>The Beaches</td>\n",
       "      <td>43.67703</td>\n",
       "      <td>-79.29542</td>\n",
       "      <td>1</td>\n",
       "      <td>Neighborhood</td>\n",
       "      <td>Trail</td>\n",
       "      <td>Health Food Store</td>\n",
       "    </tr>\n",
       "  </tbody>\n",
       "</table>\n",
       "</div>"
      ],
      "text/plain": [
       "            Borough                                Neighbourhood  Latitude  \\\n",
       "0  Downtown Toronto                    Regent Park, Harbourfront  43.65514   \n",
       "1  Downtown Toronto  Queen's Park, Ontario Provincial Government  43.66449   \n",
       "2  Downtown Toronto                     Garden District, Ryerson  43.65736   \n",
       "3  Downtown Toronto                               St. James Town  43.65143   \n",
       "4      East Toronto                                  The Beaches  43.67703   \n",
       "\n",
       "   Longitude Cluster   top_1_venue     top_2_venue        top_3_venue  \n",
       "0  -79.36265       0   Coffee Shop  Breakfast Spot             Bakery  \n",
       "1  -79.39302       3   Coffee Shop  Sandwich Place               Park  \n",
       "2  -79.37818       3          Café     Coffee Shop            Theater  \n",
       "3  -79.37557       0          Café     Coffee Shop          Gastropub  \n",
       "4  -79.29542       1  Neighborhood           Trail  Health Food Store  "
      ]
     },
     "execution_count": 83,
     "metadata": {},
     "output_type": "execute_result"
    }
   ],
   "source": [
    "toronto = df_toronto[['Borough','Neighbourhood','Latitude','Longitude']]\n",
    "toronto = toronto.join(toronto_clustered.set_index('Neighbourhood'), on='Neighbourhood', how='right')\n",
    "toronto.head()"
   ]
  },
  {
   "cell_type": "markdown",
   "metadata": {},
   "source": [
    "group by clusters"
   ]
  },
  {
   "cell_type": "code",
   "execution_count": 84,
   "metadata": {},
   "outputs": [
    {
     "data": {
      "text/html": [
       "<div>\n",
       "<style scoped>\n",
       "    .dataframe tbody tr th:only-of-type {\n",
       "        vertical-align: middle;\n",
       "    }\n",
       "\n",
       "    .dataframe tbody tr th {\n",
       "        vertical-align: top;\n",
       "    }\n",
       "\n",
       "    .dataframe thead th {\n",
       "        text-align: right;\n",
       "    }\n",
       "</style>\n",
       "<table border=\"1\" class=\"dataframe\">\n",
       "  <thead>\n",
       "    <tr style=\"text-align: right;\">\n",
       "      <th></th>\n",
       "      <th>Cluster</th>\n",
       "      <th>Borough</th>\n",
       "      <th>Neighbourhood</th>\n",
       "      <th>Latitude</th>\n",
       "      <th>Longitude</th>\n",
       "      <th>top_1_venue</th>\n",
       "      <th>top_2_venue</th>\n",
       "      <th>top_3_venue</th>\n",
       "    </tr>\n",
       "  </thead>\n",
       "  <tbody>\n",
       "    <tr>\n",
       "      <th>0</th>\n",
       "      <td>0</td>\n",
       "      <td>Downtown Toronto</td>\n",
       "      <td>Regent Park, Harbourfront</td>\n",
       "      <td>43.65514</td>\n",
       "      <td>-79.36265</td>\n",
       "      <td>Coffee Shop</td>\n",
       "      <td>Breakfast Spot</td>\n",
       "      <td>Bakery</td>\n",
       "    </tr>\n",
       "    <tr>\n",
       "      <th>1</th>\n",
       "      <td>0</td>\n",
       "      <td>West Toronto</td>\n",
       "      <td>Brockton, Parkdale Village, Exhibition Place</td>\n",
       "      <td>43.63941</td>\n",
       "      <td>-79.42676</td>\n",
       "      <td>Café</td>\n",
       "      <td>Furniture / Home Store</td>\n",
       "      <td>Gift Shop</td>\n",
       "    </tr>\n",
       "    <tr>\n",
       "      <th>2</th>\n",
       "      <td>0</td>\n",
       "      <td>Central Toronto</td>\n",
       "      <td>The Annex, North Midtown, Yorkville</td>\n",
       "      <td>43.67484</td>\n",
       "      <td>-79.40185</td>\n",
       "      <td>Italian Restaurant</td>\n",
       "      <td>Park</td>\n",
       "      <td>Sandwich Place</td>\n",
       "    </tr>\n",
       "    <tr>\n",
       "      <th>3</th>\n",
       "      <td>0</td>\n",
       "      <td>West Toronto</td>\n",
       "      <td>Parkdale, Roncesvalles</td>\n",
       "      <td>43.64785</td>\n",
       "      <td>-79.45020</td>\n",
       "      <td>American Restaurant</td>\n",
       "      <td>Gift Shop</td>\n",
       "      <td>Eastern European Restaurant</td>\n",
       "    </tr>\n",
       "    <tr>\n",
       "      <th>4</th>\n",
       "      <td>0</td>\n",
       "      <td>Downtown Toronto</td>\n",
       "      <td>University of Toronto, Harbord</td>\n",
       "      <td>43.66311</td>\n",
       "      <td>-79.40180</td>\n",
       "      <td>Bakery</td>\n",
       "      <td>Japanese Restaurant</td>\n",
       "      <td>Bookstore</td>\n",
       "    </tr>\n",
       "  </tbody>\n",
       "</table>\n",
       "</div>"
      ],
      "text/plain": [
       "  Cluster           Borough                                 Neighbourhood  \\\n",
       "0       0  Downtown Toronto                     Regent Park, Harbourfront   \n",
       "1       0      West Toronto  Brockton, Parkdale Village, Exhibition Place   \n",
       "2       0   Central Toronto           The Annex, North Midtown, Yorkville   \n",
       "3       0      West Toronto                        Parkdale, Roncesvalles   \n",
       "4       0  Downtown Toronto                University of Toronto, Harbord   \n",
       "\n",
       "   Latitude  Longitude          top_1_venue             top_2_venue  \\\n",
       "0  43.65514  -79.36265          Coffee Shop          Breakfast Spot   \n",
       "1  43.63941  -79.42676                 Café  Furniture / Home Store   \n",
       "2  43.67484  -79.40185   Italian Restaurant                    Park   \n",
       "3  43.64785  -79.45020  American Restaurant               Gift Shop   \n",
       "4  43.66311  -79.40180               Bakery     Japanese Restaurant   \n",
       "\n",
       "                   top_3_venue  \n",
       "0                       Bakery  \n",
       "1                    Gift Shop  \n",
       "2               Sandwich Place  \n",
       "3  Eastern European Restaurant  \n",
       "4                    Bookstore  "
      ]
     },
     "execution_count": 84,
     "metadata": {},
     "output_type": "execute_result"
    }
   ],
   "source": [
    "# move cluster column to front\n",
    "fixed_columns = [toronto.columns[4]] + list(toronto.columns[0:4]) + list(toronto.columns[5:])\n",
    "toronto_cluster = toronto[fixed_columns]\n",
    "\n",
    "# group by cluster\n",
    "toronto_cluster.sort_values(by='Cluster', inplace=True)\n",
    "toronto_cluster.reset_index(drop=True, inplace=True)\n",
    "toronto_cluster.head()"
   ]
  },
  {
   "cell_type": "markdown",
   "metadata": {},
   "source": [
    "#### Create map showing different clusters"
   ]
  },
  {
   "cell_type": "code",
   "execution_count": 85,
   "metadata": {},
   "outputs": [],
   "source": [
    "import folium"
   ]
  },
  {
   "cell_type": "code",
   "execution_count": 91,
   "metadata": {},
   "outputs": [
    {
     "data": {
      "text/html": [
       "<div style=\"width:100%;\"><div style=\"position:relative;width:100%;height:0;padding-bottom:60%;\"><span style=\"color:#565656\">Make this Notebook Trusted to load map: File -> Trust Notebook</span><iframe src=\"about:blank\" style=\"position:absolute;width:100%;height:100%;left:0;top:0;border:none !important;\" data-html=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 onload=\"this.contentDocument.open();this.contentDocument.write(atob(this.getAttribute('data-html')));this.contentDocument.close();\" allowfullscreen webkitallowfullscreen mozallowfullscreen></iframe></div></div>"
      ],
      "text/plain": [
       "<folium.folium.Map at 0x2316351bdc8>"
      ]
     },
     "execution_count": 91,
     "metadata": {},
     "output_type": "execute_result"
    }
   ],
   "source": [
    "toronto_map = folium.Map([toronto_cluster['Latitude'].median(), toronto_cluster['Longitude'].median()], zoom_start=12)\n",
    "\n",
    "colors = ['red', 'blue', 'green', 'magenta']\n",
    "\n",
    "for i in range(toronto_cluster.shape[0]):\n",
    "        folium.CircleMarker(\n",
    "        [toronto_cluster.loc[i, 'Latitude'], toronto_cluster.loc[i, 'Longitude']],\n",
    "        color = colors[int(toronto_cluster.loc[i, 'Cluster'])],\n",
    "        radius = 5,\n",
    "        fill = True,\n",
    "        fill_color = colors[int(toronto_cluster.loc[i, 'Cluster'])],\n",
    "        fill_opacity = 0.7,\n",
    "        popup = toronto_cluster.loc[i, 'Neighbourhood']\n",
    "    ).add_to(toronto_map)\n",
    "\n",
    "toronto_map"
   ]
  },
  {
   "cell_type": "code",
   "execution_count": null,
   "metadata": {},
   "outputs": [],
   "source": []
  }
 ],
 "metadata": {
  "kernelspec": {
   "display_name": "Python 3",
   "language": "python",
   "name": "python3"
  },
  "language_info": {
   "codemirror_mode": {
    "name": "ipython",
    "version": 3
   },
   "file_extension": ".py",
   "mimetype": "text/x-python",
   "name": "python",
   "nbconvert_exporter": "python",
   "pygments_lexer": "ipython3",
   "version": "3.7.6"
  }
 },
 "nbformat": 4,
 "nbformat_minor": 4
}
