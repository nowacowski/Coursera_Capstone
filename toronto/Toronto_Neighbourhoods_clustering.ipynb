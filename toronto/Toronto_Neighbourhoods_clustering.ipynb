{
 "cells": [
  {
   "cell_type": "markdown",
   "metadata": {},
   "source": [
    "# Segmenting and Clustering Neighborhoods in Toronto"
   ]
  },
  {
   "cell_type": "markdown",
   "metadata": {},
   "source": [
    "### Scrape information from the wikipedia page on Toronto neighborhoods"
   ]
  },
  {
   "cell_type": "markdown",
   "metadata": {},
   "source": [
    "- use BeautifulSoup for webscrapping the table"
   ]
  },
  {
   "cell_type": "markdown",
   "metadata": {},
   "source": [
    "import libraries"
   ]
  },
  {
   "cell_type": "code",
   "execution_count": 2,
   "metadata": {},
   "outputs": [],
   "source": [
    "from bs4 import BeautifulSoup\n",
    "import requests\n",
    "import pandas as pd"
   ]
  },
  {
   "cell_type": "markdown",
   "metadata": {},
   "source": [
    "website for scrapping:"
   ]
  },
  {
   "cell_type": "code",
   "execution_count": 3,
   "metadata": {},
   "outputs": [],
   "source": [
    "url = 'https://en.wikipedia.org/wiki/List_of_postal_codes_of_Canada:_M'"
   ]
  },
  {
   "cell_type": "markdown",
   "metadata": {},
   "source": [
    "getting the entire website as lxml:"
   ]
  },
  {
   "cell_type": "code",
   "execution_count": 4,
   "metadata": {},
   "outputs": [],
   "source": [
    "html_content = requests.get(url)"
   ]
  },
  {
   "cell_type": "markdown",
   "metadata": {},
   "source": [
    "get text from the website"
   ]
  },
  {
   "cell_type": "code",
   "execution_count": 5,
   "metadata": {},
   "outputs": [],
   "source": [
    "content = html_content.text\n",
    "soup = BeautifulSoup(content, 'lxml')"
   ]
  },
  {
   "cell_type": "markdown",
   "metadata": {},
   "source": [
    "find table:"
   ]
  },
  {
   "cell_type": "code",
   "execution_count": 6,
   "metadata": {},
   "outputs": [],
   "source": [
    "# find table on the website\n",
    "table = soup.find(\"table\", attrs = {\"class\": \"wikitable sortable\"})"
   ]
  },
  {
   "cell_type": "markdown",
   "metadata": {},
   "source": [
    "get table headers:"
   ]
  },
  {
   "cell_type": "code",
   "execution_count": null,
   "metadata": {},
   "outputs": [],
   "source": [
    "t_headers = []\n",
    "for th in table.find_all(\"th\"):\n",
    "    t_headers.append(th.text.replace(\"\\n\",' ').strip())\n",
    "\n",
    "t_headers"
   ]
  },
  {
   "cell_type": "markdown",
   "metadata": {},
   "source": [
    "get data from table into a dictionary:"
   ]
  },
  {
   "cell_type": "code",
   "execution_count": 8,
   "metadata": {},
   "outputs": [],
   "source": [
    "table_data = []\n",
    "for tr in table.tbody.find_all(\"tr\"): # each row in tbody of table is tr\n",
    "    t_row = {}\n",
    "    for td, th in zip(tr.find_all(\"td\"), t_headers): # each cell in row is td\n",
    "        t_row[th] = td.text.replace('\\n','').strip()\n",
    "    table_data.append(t_row)"
   ]
  },
  {
   "cell_type": "markdown",
   "metadata": {},
   "source": [
    "### Wrangle the data"
   ]
  },
  {
   "cell_type": "code",
   "execution_count": 9,
   "metadata": {},
   "outputs": [],
   "source": [
    "table_data = table_data[1:]  # remove first row (it is empty)"
   ]
  },
  {
   "cell_type": "markdown",
   "metadata": {},
   "source": [
    "Convert dictionary into a dataframe:"
   ]
  },
  {
   "cell_type": "code",
   "execution_count": 10,
   "metadata": {},
   "outputs": [
    {
     "data": {
      "text/html": [
       "<div>\n",
       "<style scoped>\n",
       "    .dataframe tbody tr th:only-of-type {\n",
       "        vertical-align: middle;\n",
       "    }\n",
       "\n",
       "    .dataframe tbody tr th {\n",
       "        vertical-align: top;\n",
       "    }\n",
       "\n",
       "    .dataframe thead th {\n",
       "        text-align: right;\n",
       "    }\n",
       "</style>\n",
       "<table border=\"1\" class=\"dataframe\">\n",
       "  <thead>\n",
       "    <tr style=\"text-align: right;\">\n",
       "      <th></th>\n",
       "      <th>Postal Code</th>\n",
       "      <th>Borough</th>\n",
       "      <th>Neighbourhood</th>\n",
       "    </tr>\n",
       "  </thead>\n",
       "  <tbody>\n",
       "    <tr>\n",
       "      <th>0</th>\n",
       "      <td>M1A</td>\n",
       "      <td>Not assigned</td>\n",
       "      <td>Not assigned</td>\n",
       "    </tr>\n",
       "    <tr>\n",
       "      <th>1</th>\n",
       "      <td>M2A</td>\n",
       "      <td>Not assigned</td>\n",
       "      <td>Not assigned</td>\n",
       "    </tr>\n",
       "    <tr>\n",
       "      <th>2</th>\n",
       "      <td>M3A</td>\n",
       "      <td>North York</td>\n",
       "      <td>Parkwoods</td>\n",
       "    </tr>\n",
       "    <tr>\n",
       "      <th>3</th>\n",
       "      <td>M4A</td>\n",
       "      <td>North York</td>\n",
       "      <td>Victoria Village</td>\n",
       "    </tr>\n",
       "    <tr>\n",
       "      <th>4</th>\n",
       "      <td>M5A</td>\n",
       "      <td>Downtown Toronto</td>\n",
       "      <td>Regent Park, Harbourfront</td>\n",
       "    </tr>\n",
       "  </tbody>\n",
       "</table>\n",
       "</div>"
      ],
      "text/plain": [
       "  Postal Code           Borough              Neighbourhood\n",
       "0         M1A      Not assigned               Not assigned\n",
       "1         M2A      Not assigned               Not assigned\n",
       "2         M3A        North York                  Parkwoods\n",
       "3         M4A        North York           Victoria Village\n",
       "4         M5A  Downtown Toronto  Regent Park, Harbourfront"
      ]
     },
     "execution_count": 10,
     "metadata": {},
     "output_type": "execute_result"
    }
   ],
   "source": [
    "df_table = pd.DataFrame(table_data)\n",
    "df_table.head()"
   ]
  },
  {
   "cell_type": "code",
   "execution_count": 11,
   "metadata": {},
   "outputs": [
    {
     "data": {
      "text/plain": [
       "(180, 3)"
      ]
     },
     "execution_count": 11,
     "metadata": {},
     "output_type": "execute_result"
    }
   ],
   "source": [
    "df_table.shape"
   ]
  },
  {
   "cell_type": "markdown",
   "metadata": {},
   "source": [
    "Remove rows where Borough is Not assigned:"
   ]
  },
  {
   "cell_type": "code",
   "execution_count": 12,
   "metadata": {},
   "outputs": [
    {
     "data": {
      "text/html": [
       "<div>\n",
       "<style scoped>\n",
       "    .dataframe tbody tr th:only-of-type {\n",
       "        vertical-align: middle;\n",
       "    }\n",
       "\n",
       "    .dataframe tbody tr th {\n",
       "        vertical-align: top;\n",
       "    }\n",
       "\n",
       "    .dataframe thead th {\n",
       "        text-align: right;\n",
       "    }\n",
       "</style>\n",
       "<table border=\"1\" class=\"dataframe\">\n",
       "  <thead>\n",
       "    <tr style=\"text-align: right;\">\n",
       "      <th></th>\n",
       "      <th>Postal Code</th>\n",
       "      <th>Borough</th>\n",
       "      <th>Neighbourhood</th>\n",
       "    </tr>\n",
       "  </thead>\n",
       "  <tbody>\n",
       "    <tr>\n",
       "      <th>2</th>\n",
       "      <td>M3A</td>\n",
       "      <td>North York</td>\n",
       "      <td>Parkwoods</td>\n",
       "    </tr>\n",
       "    <tr>\n",
       "      <th>3</th>\n",
       "      <td>M4A</td>\n",
       "      <td>North York</td>\n",
       "      <td>Victoria Village</td>\n",
       "    </tr>\n",
       "    <tr>\n",
       "      <th>4</th>\n",
       "      <td>M5A</td>\n",
       "      <td>Downtown Toronto</td>\n",
       "      <td>Regent Park, Harbourfront</td>\n",
       "    </tr>\n",
       "    <tr>\n",
       "      <th>5</th>\n",
       "      <td>M6A</td>\n",
       "      <td>North York</td>\n",
       "      <td>Lawrence Manor, Lawrence Heights</td>\n",
       "    </tr>\n",
       "    <tr>\n",
       "      <th>6</th>\n",
       "      <td>M7A</td>\n",
       "      <td>Downtown Toronto</td>\n",
       "      <td>Queen's Park, Ontario Provincial Government</td>\n",
       "    </tr>\n",
       "  </tbody>\n",
       "</table>\n",
       "</div>"
      ],
      "text/plain": [
       "  Postal Code           Borough                                Neighbourhood\n",
       "2         M3A        North York                                    Parkwoods\n",
       "3         M4A        North York                             Victoria Village\n",
       "4         M5A  Downtown Toronto                    Regent Park, Harbourfront\n",
       "5         M6A        North York             Lawrence Manor, Lawrence Heights\n",
       "6         M7A  Downtown Toronto  Queen's Park, Ontario Provincial Government"
      ]
     },
     "execution_count": 12,
     "metadata": {},
     "output_type": "execute_result"
    }
   ],
   "source": [
    "df_table = df_table[df_table['Borough']!='Not assigned']\n",
    "df_table.head()"
   ]
  },
  {
   "cell_type": "code",
   "execution_count": 13,
   "metadata": {},
   "outputs": [
    {
     "data": {
      "text/plain": [
       "(103, 3)"
      ]
     },
     "execution_count": 13,
     "metadata": {},
     "output_type": "execute_result"
    }
   ],
   "source": [
    "df_table.shape"
   ]
  },
  {
   "cell_type": "markdown",
   "metadata": {},
   "source": [
    "Combine rows with same Postal Code/Borough:"
   ]
  },
  {
   "cell_type": "code",
   "execution_count": 14,
   "metadata": {},
   "outputs": [
    {
     "data": {
      "text/html": [
       "<div>\n",
       "<style scoped>\n",
       "    .dataframe tbody tr th:only-of-type {\n",
       "        vertical-align: middle;\n",
       "    }\n",
       "\n",
       "    .dataframe tbody tr th {\n",
       "        vertical-align: top;\n",
       "    }\n",
       "\n",
       "    .dataframe thead th {\n",
       "        text-align: right;\n",
       "    }\n",
       "</style>\n",
       "<table border=\"1\" class=\"dataframe\">\n",
       "  <thead>\n",
       "    <tr style=\"text-align: right;\">\n",
       "      <th></th>\n",
       "      <th>Postal Code</th>\n",
       "      <th>Borough</th>\n",
       "      <th>Neighbourhood</th>\n",
       "    </tr>\n",
       "  </thead>\n",
       "  <tbody>\n",
       "    <tr>\n",
       "      <th>0</th>\n",
       "      <td>M3A</td>\n",
       "      <td>North York</td>\n",
       "      <td>Parkwoods</td>\n",
       "    </tr>\n",
       "    <tr>\n",
       "      <th>1</th>\n",
       "      <td>M4A</td>\n",
       "      <td>North York</td>\n",
       "      <td>Victoria Village</td>\n",
       "    </tr>\n",
       "    <tr>\n",
       "      <th>2</th>\n",
       "      <td>M5A</td>\n",
       "      <td>Downtown Toronto</td>\n",
       "      <td>Regent Park, Harbourfront</td>\n",
       "    </tr>\n",
       "    <tr>\n",
       "      <th>3</th>\n",
       "      <td>M6A</td>\n",
       "      <td>North York</td>\n",
       "      <td>Lawrence Manor, Lawrence Heights</td>\n",
       "    </tr>\n",
       "    <tr>\n",
       "      <th>4</th>\n",
       "      <td>M7A</td>\n",
       "      <td>Downtown Toronto</td>\n",
       "      <td>Queen's Park, Ontario Provincial Government</td>\n",
       "    </tr>\n",
       "  </tbody>\n",
       "</table>\n",
       "</div>"
      ],
      "text/plain": [
       "  Postal Code           Borough                                Neighbourhood\n",
       "0         M3A        North York                                    Parkwoods\n",
       "1         M4A        North York                             Victoria Village\n",
       "2         M5A  Downtown Toronto                    Regent Park, Harbourfront\n",
       "3         M6A        North York             Lawrence Manor, Lawrence Heights\n",
       "4         M7A  Downtown Toronto  Queen's Park, Ontario Provincial Government"
      ]
     },
     "execution_count": 14,
     "metadata": {},
     "output_type": "execute_result"
    }
   ],
   "source": [
    "df_table = pd.DataFrame(df_table.groupby(['Postal Code','Borough'], sort=False)['Neighbourhood'].apply(', '.join))\n",
    "df_table.reset_index(inplace=True)\n",
    "df_table.head()"
   ]
  },
  {
   "cell_type": "code",
   "execution_count": 15,
   "metadata": {},
   "outputs": [
    {
     "data": {
      "text/plain": [
       "(103, 3)"
      ]
     },
     "execution_count": 15,
     "metadata": {},
     "output_type": "execute_result"
    }
   ],
   "source": [
    "df_table.shape"
   ]
  },
  {
   "cell_type": "markdown",
   "metadata": {},
   "source": [
    "\\* seems that there was no repeating Postal Code"
   ]
  },
  {
   "cell_type": "markdown",
   "metadata": {},
   "source": [
    "For the rows with Not assigned Neighbourhood, apply Borough as the Neighbourhood name:"
   ]
  },
  {
   "cell_type": "code",
   "execution_count": 16,
   "metadata": {},
   "outputs": [],
   "source": [
    "df_table.loc[df_table['Neighbourhood']=='Not assigned','Neighbourhood'] = df_table.loc[df_table['Neighbourhood']=='Not assigned','Borough']"
   ]
  },
  {
   "cell_type": "markdown",
   "metadata": {},
   "source": [
    "Number of rows obtained after wrangling of the data:"
   ]
  },
  {
   "cell_type": "code",
   "execution_count": 17,
   "metadata": {},
   "outputs": [
    {
     "name": "stdout",
     "output_type": "stream",
     "text": [
      "There is 103 rows in the dataframe\n"
     ]
    }
   ],
   "source": [
    "print('There is {} rows in the dataframe'.format(df_table.shape[0]))"
   ]
  },
  {
   "cell_type": "markdown",
   "metadata": {},
   "source": [
    "## Get spacial coordinates"
   ]
  },
  {
   "cell_type": "markdown",
   "metadata": {},
   "source": [
    "- obtain spatial coordinates for each neighbourhood"
   ]
  },
  {
   "cell_type": "code",
   "execution_count": 18,
   "metadata": {},
   "outputs": [],
   "source": [
    "import geocoder"
   ]
  },
  {
   "cell_type": "markdown",
   "metadata": {},
   "source": [
    "loop through all the rows and get coordinates based on post code:"
   ]
  },
  {
   "cell_type": "code",
   "execution_count": 19,
   "metadata": {},
   "outputs": [],
   "source": [
    "for idx, address in enumerate(df_table['Postal Code']):\n",
    "    address_full = address + ', Toronto, Ontario, Canada'\n",
    "    \n",
    "    coord = None\n",
    "    i = 0\n",
    "    while coord == None or i==20:\n",
    "        coord = geocoder.arcgis(address_full).latlng\n",
    "        i+=1\n",
    "    df_table.loc[idx, 'Latitude'] = coord[0]\n",
    "    df_table.loc[idx, 'Longitude'] = coord[1]"
   ]
  },
  {
   "cell_type": "code",
   "execution_count": 20,
   "metadata": {},
   "outputs": [
    {
     "data": {
      "text/html": [
       "<div>\n",
       "<style scoped>\n",
       "    .dataframe tbody tr th:only-of-type {\n",
       "        vertical-align: middle;\n",
       "    }\n",
       "\n",
       "    .dataframe tbody tr th {\n",
       "        vertical-align: top;\n",
       "    }\n",
       "\n",
       "    .dataframe thead th {\n",
       "        text-align: right;\n",
       "    }\n",
       "</style>\n",
       "<table border=\"1\" class=\"dataframe\">\n",
       "  <thead>\n",
       "    <tr style=\"text-align: right;\">\n",
       "      <th></th>\n",
       "      <th>Postal Code</th>\n",
       "      <th>Borough</th>\n",
       "      <th>Neighbourhood</th>\n",
       "      <th>Latitude</th>\n",
       "      <th>Longitude</th>\n",
       "    </tr>\n",
       "  </thead>\n",
       "  <tbody>\n",
       "    <tr>\n",
       "      <th>0</th>\n",
       "      <td>M3A</td>\n",
       "      <td>North York</td>\n",
       "      <td>Parkwoods</td>\n",
       "      <td>43.75188</td>\n",
       "      <td>-79.33036</td>\n",
       "    </tr>\n",
       "    <tr>\n",
       "      <th>1</th>\n",
       "      <td>M4A</td>\n",
       "      <td>North York</td>\n",
       "      <td>Victoria Village</td>\n",
       "      <td>43.73042</td>\n",
       "      <td>-79.31282</td>\n",
       "    </tr>\n",
       "    <tr>\n",
       "      <th>2</th>\n",
       "      <td>M5A</td>\n",
       "      <td>Downtown Toronto</td>\n",
       "      <td>Regent Park, Harbourfront</td>\n",
       "      <td>43.65514</td>\n",
       "      <td>-79.36265</td>\n",
       "    </tr>\n",
       "    <tr>\n",
       "      <th>3</th>\n",
       "      <td>M6A</td>\n",
       "      <td>North York</td>\n",
       "      <td>Lawrence Manor, Lawrence Heights</td>\n",
       "      <td>43.72321</td>\n",
       "      <td>-79.45141</td>\n",
       "    </tr>\n",
       "    <tr>\n",
       "      <th>4</th>\n",
       "      <td>M7A</td>\n",
       "      <td>Downtown Toronto</td>\n",
       "      <td>Queen's Park, Ontario Provincial Government</td>\n",
       "      <td>43.66449</td>\n",
       "      <td>-79.39302</td>\n",
       "    </tr>\n",
       "  </tbody>\n",
       "</table>\n",
       "</div>"
      ],
      "text/plain": [
       "  Postal Code           Borough                                Neighbourhood  \\\n",
       "0         M3A        North York                                    Parkwoods   \n",
       "1         M4A        North York                             Victoria Village   \n",
       "2         M5A  Downtown Toronto                    Regent Park, Harbourfront   \n",
       "3         M6A        North York             Lawrence Manor, Lawrence Heights   \n",
       "4         M7A  Downtown Toronto  Queen's Park, Ontario Provincial Government   \n",
       "\n",
       "   Latitude  Longitude  \n",
       "0  43.75188  -79.33036  \n",
       "1  43.73042  -79.31282  \n",
       "2  43.65514  -79.36265  \n",
       "3  43.72321  -79.45141  \n",
       "4  43.66449  -79.39302  "
      ]
     },
     "execution_count": 20,
     "metadata": {},
     "output_type": "execute_result"
    }
   ],
   "source": [
    "df_table.head()"
   ]
  },
  {
   "cell_type": "markdown",
   "metadata": {},
   "source": [
    "### Explore and cluster the neighborhoods in Toronto"
   ]
  },
  {
   "cell_type": "markdown",
   "metadata": {},
   "source": [
    "Filter the neighbourhoods to get only those located in Toronto city"
   ]
  },
  {
   "cell_type": "code",
   "execution_count": 21,
   "metadata": {},
   "outputs": [
    {
     "name": "stderr",
     "output_type": "stream",
     "text": [
      "C:\\Users\\Pawel\\anaconda3\\lib\\site-packages\\pandas\\core\\frame.py:3997: SettingWithCopyWarning: \n",
      "A value is trying to be set on a copy of a slice from a DataFrame\n",
      "\n",
      "See the caveats in the documentation: https://pandas.pydata.org/pandas-docs/stable/user_guide/indexing.html#returning-a-view-versus-a-copy\n",
      "  errors=errors,\n"
     ]
    },
    {
     "data": {
      "text/html": [
       "<div>\n",
       "<style scoped>\n",
       "    .dataframe tbody tr th:only-of-type {\n",
       "        vertical-align: middle;\n",
       "    }\n",
       "\n",
       "    .dataframe tbody tr th {\n",
       "        vertical-align: top;\n",
       "    }\n",
       "\n",
       "    .dataframe thead th {\n",
       "        text-align: right;\n",
       "    }\n",
       "</style>\n",
       "<table border=\"1\" class=\"dataframe\">\n",
       "  <thead>\n",
       "    <tr style=\"text-align: right;\">\n",
       "      <th></th>\n",
       "      <th>Postal Code</th>\n",
       "      <th>Borough</th>\n",
       "      <th>Neighbourhood</th>\n",
       "      <th>Latitude</th>\n",
       "      <th>Longitude</th>\n",
       "    </tr>\n",
       "  </thead>\n",
       "  <tbody>\n",
       "    <tr>\n",
       "      <th>0</th>\n",
       "      <td>M5A</td>\n",
       "      <td>Downtown Toronto</td>\n",
       "      <td>Regent Park, Harbourfront</td>\n",
       "      <td>43.65514</td>\n",
       "      <td>-79.36265</td>\n",
       "    </tr>\n",
       "    <tr>\n",
       "      <th>1</th>\n",
       "      <td>M7A</td>\n",
       "      <td>Downtown Toronto</td>\n",
       "      <td>Queen's Park, Ontario Provincial Government</td>\n",
       "      <td>43.66449</td>\n",
       "      <td>-79.39302</td>\n",
       "    </tr>\n",
       "    <tr>\n",
       "      <th>2</th>\n",
       "      <td>M5B</td>\n",
       "      <td>Downtown Toronto</td>\n",
       "      <td>Garden District, Ryerson</td>\n",
       "      <td>43.65736</td>\n",
       "      <td>-79.37818</td>\n",
       "    </tr>\n",
       "    <tr>\n",
       "      <th>3</th>\n",
       "      <td>M5C</td>\n",
       "      <td>Downtown Toronto</td>\n",
       "      <td>St. James Town</td>\n",
       "      <td>43.65143</td>\n",
       "      <td>-79.37557</td>\n",
       "    </tr>\n",
       "    <tr>\n",
       "      <th>4</th>\n",
       "      <td>M4E</td>\n",
       "      <td>East Toronto</td>\n",
       "      <td>The Beaches</td>\n",
       "      <td>43.67703</td>\n",
       "      <td>-79.29542</td>\n",
       "    </tr>\n",
       "  </tbody>\n",
       "</table>\n",
       "</div>"
      ],
      "text/plain": [
       "  Postal Code           Borough                                Neighbourhood  \\\n",
       "0         M5A  Downtown Toronto                    Regent Park, Harbourfront   \n",
       "1         M7A  Downtown Toronto  Queen's Park, Ontario Provincial Government   \n",
       "2         M5B  Downtown Toronto                     Garden District, Ryerson   \n",
       "3         M5C  Downtown Toronto                               St. James Town   \n",
       "4         M4E      East Toronto                                  The Beaches   \n",
       "\n",
       "   Latitude  Longitude  \n",
       "0  43.65514  -79.36265  \n",
       "1  43.66449  -79.39302  \n",
       "2  43.65736  -79.37818  \n",
       "3  43.65143  -79.37557  \n",
       "4  43.67703  -79.29542  "
      ]
     },
     "execution_count": 21,
     "metadata": {},
     "output_type": "execute_result"
    }
   ],
   "source": [
    "df_toronto = df_table[df_table['Borough'].str.contains('Toronto')]\n",
    "df_toronto.reset_index(inplace=True)\n",
    "df_toronto.drop('index', axis=1, inplace=True)\n",
    "df_toronto.head()"
   ]
  },
  {
   "cell_type": "code",
   "execution_count": 22,
   "metadata": {},
   "outputs": [
    {
     "data": {
      "text/plain": [
       "(39, 5)"
      ]
     },
     "execution_count": 22,
     "metadata": {},
     "output_type": "execute_result"
    }
   ],
   "source": [
    "df_toronto.shape"
   ]
  },
  {
   "cell_type": "markdown",
   "metadata": {},
   "source": [
    "Foursquare creditentials"
   ]
  },
  {
   "cell_type": "code",
   "execution_count": 23,
   "metadata": {},
   "outputs": [],
   "source": [
    "import json\n",
    "with open(\"C:\\\\Users\\\\Pawel\\\\Documents\\\\Github\\\\credits_fs.json\", 'r') as f:\n",
    "    creds = json.load(f)\n",
    "CLIENT_ID = creds['CLIENT_ID'] # your Foursquare ID\n",
    "CLIENT_SECRET = creds['CLIENT_SECRET'] # your Foursquare Secret\n",
    "VERSION = '20180605' # Foursquare API version"
   ]
  },
  {
   "cell_type": "markdown",
   "metadata": {},
   "source": [
    "Get top 100 venues located within 500m using foursquare's API"
   ]
  },
  {
   "cell_type": "code",
   "execution_count": 24,
   "metadata": {},
   "outputs": [],
   "source": [
    "LIMIT = 100\n",
    "RADIUS = 200\n",
    "\n",
    "toronto_venues = []\n",
    "\n",
    "for i in range(df_toronto.shape[0]):\n",
    "    # url request to the foursquare api\n",
    "    url = 'https://api.foursquare.com/v2/venues/explore?&client_id={}&client_secret={}&v={}&ll={},{}&radius={}&limit{}'.format(\n",
    "        CLIENT_ID, \n",
    "        CLIENT_SECRET, \n",
    "        VERSION, \n",
    "        df_toronto.loc[i,'Latitude'], \n",
    "        df_toronto.loc[i,'Longitude'], \n",
    "        RADIUS, \n",
    "        LIMIT)\n",
    "    \n",
    "    results = requests.get(url).json()['response']['groups'][0]['items']\n",
    "    \n",
    "    toronto_venues.append([(\n",
    "        df_toronto.loc[i,'Postal Code'],\n",
    "        df_toronto.loc[i,'Borough'],\n",
    "        df_toronto.loc[i,'Neighbourhood'],\n",
    "        df_toronto.loc[i,'Latitude'],\n",
    "        df_toronto.loc[i,'Longitude'], \n",
    "        result['venue']['categories'][0]['name']) for result in results])"
   ]
  },
  {
   "cell_type": "markdown",
   "metadata": {},
   "source": [
    "Convert to dataframe"
   ]
  },
  {
   "cell_type": "code",
   "execution_count": 25,
   "metadata": {},
   "outputs": [
    {
     "data": {
      "text/html": [
       "<div>\n",
       "<style scoped>\n",
       "    .dataframe tbody tr th:only-of-type {\n",
       "        vertical-align: middle;\n",
       "    }\n",
       "\n",
       "    .dataframe tbody tr th {\n",
       "        vertical-align: top;\n",
       "    }\n",
       "\n",
       "    .dataframe thead th {\n",
       "        text-align: right;\n",
       "    }\n",
       "</style>\n",
       "<table border=\"1\" class=\"dataframe\">\n",
       "  <thead>\n",
       "    <tr style=\"text-align: right;\">\n",
       "      <th></th>\n",
       "      <th>Postal Code</th>\n",
       "      <th>Borough</th>\n",
       "      <th>Neighbourhood</th>\n",
       "      <th>Latitude</th>\n",
       "      <th>Longitude</th>\n",
       "      <th>Venue</th>\n",
       "    </tr>\n",
       "  </thead>\n",
       "  <tbody>\n",
       "    <tr>\n",
       "      <th>0</th>\n",
       "      <td>M5A</td>\n",
       "      <td>Downtown Toronto</td>\n",
       "      <td>Regent Park, Harbourfront</td>\n",
       "      <td>43.65514</td>\n",
       "      <td>-79.36265</td>\n",
       "      <td>Bakery</td>\n",
       "    </tr>\n",
       "    <tr>\n",
       "      <th>1</th>\n",
       "      <td>M5A</td>\n",
       "      <td>Downtown Toronto</td>\n",
       "      <td>Regent Park, Harbourfront</td>\n",
       "      <td>43.65514</td>\n",
       "      <td>-79.36265</td>\n",
       "      <td>Coffee Shop</td>\n",
       "    </tr>\n",
       "    <tr>\n",
       "      <th>2</th>\n",
       "      <td>M5A</td>\n",
       "      <td>Downtown Toronto</td>\n",
       "      <td>Regent Park, Harbourfront</td>\n",
       "      <td>43.65514</td>\n",
       "      <td>-79.36265</td>\n",
       "      <td>Breakfast Spot</td>\n",
       "    </tr>\n",
       "    <tr>\n",
       "      <th>3</th>\n",
       "      <td>M5A</td>\n",
       "      <td>Downtown Toronto</td>\n",
       "      <td>Regent Park, Harbourfront</td>\n",
       "      <td>43.65514</td>\n",
       "      <td>-79.36265</td>\n",
       "      <td>Yoga Studio</td>\n",
       "    </tr>\n",
       "    <tr>\n",
       "      <th>4</th>\n",
       "      <td>M5A</td>\n",
       "      <td>Downtown Toronto</td>\n",
       "      <td>Regent Park, Harbourfront</td>\n",
       "      <td>43.65514</td>\n",
       "      <td>-79.36265</td>\n",
       "      <td>Breakfast Spot</td>\n",
       "    </tr>\n",
       "  </tbody>\n",
       "</table>\n",
       "</div>"
      ],
      "text/plain": [
       "  Postal Code           Borough              Neighbourhood  Latitude  \\\n",
       "0         M5A  Downtown Toronto  Regent Park, Harbourfront  43.65514   \n",
       "1         M5A  Downtown Toronto  Regent Park, Harbourfront  43.65514   \n",
       "2         M5A  Downtown Toronto  Regent Park, Harbourfront  43.65514   \n",
       "3         M5A  Downtown Toronto  Regent Park, Harbourfront  43.65514   \n",
       "4         M5A  Downtown Toronto  Regent Park, Harbourfront  43.65514   \n",
       "\n",
       "   Longitude           Venue  \n",
       "0  -79.36265          Bakery  \n",
       "1  -79.36265     Coffee Shop  \n",
       "2  -79.36265  Breakfast Spot  \n",
       "3  -79.36265     Yoga Studio  \n",
       "4  -79.36265  Breakfast Spot  "
      ]
     },
     "execution_count": 25,
     "metadata": {},
     "output_type": "execute_result"
    }
   ],
   "source": [
    "df_toronto_venues = pd.DataFrame(data=[item for venue_list in toronto_venues for item in venue_list],\n",
    "                                columns=['Postal Code', 'Borough', 'Neighbourhood','Latitude','Longitude','Venue'])\n",
    "df_toronto_venues.head()"
   ]
  },
  {
   "cell_type": "code",
   "execution_count": 26,
   "metadata": {},
   "outputs": [
    {
     "data": {
      "text/plain": [
       "(35,)"
      ]
     },
     "execution_count": 26,
     "metadata": {},
     "output_type": "execute_result"
    }
   ],
   "source": [
    "df_toronto_venues['Neighbourhood'].value_counts().shape"
   ]
  },
  {
   "cell_type": "markdown",
   "metadata": {},
   "source": [
    "perform one-hot-encoding"
   ]
  },
  {
   "cell_type": "code",
   "execution_count": 27,
   "metadata": {},
   "outputs": [
    {
     "data": {
      "text/html": [
       "<div>\n",
       "<style scoped>\n",
       "    .dataframe tbody tr th:only-of-type {\n",
       "        vertical-align: middle;\n",
       "    }\n",
       "\n",
       "    .dataframe tbody tr th {\n",
       "        vertical-align: top;\n",
       "    }\n",
       "\n",
       "    .dataframe thead th {\n",
       "        text-align: right;\n",
       "    }\n",
       "</style>\n",
       "<table border=\"1\" class=\"dataframe\">\n",
       "  <thead>\n",
       "    <tr style=\"text-align: right;\">\n",
       "      <th></th>\n",
       "      <th>Neighbourhood</th>\n",
       "      <th>American Restaurant</th>\n",
       "      <th>Antique Shop</th>\n",
       "      <th>Art Gallery</th>\n",
       "      <th>Arts &amp; Crafts Store</th>\n",
       "      <th>Asian Restaurant</th>\n",
       "      <th>BBQ Joint</th>\n",
       "      <th>Bakery</th>\n",
       "      <th>Bank</th>\n",
       "      <th>Bar</th>\n",
       "      <th>...</th>\n",
       "      <th>Thai Restaurant</th>\n",
       "      <th>Theater</th>\n",
       "      <th>Theme Restaurant</th>\n",
       "      <th>Trail</th>\n",
       "      <th>Train Station</th>\n",
       "      <th>Vegetarian / Vegan Restaurant</th>\n",
       "      <th>Veterinarian</th>\n",
       "      <th>Vietnamese Restaurant</th>\n",
       "      <th>Wine Bar</th>\n",
       "      <th>Yoga Studio</th>\n",
       "    </tr>\n",
       "  </thead>\n",
       "  <tbody>\n",
       "    <tr>\n",
       "      <th>0</th>\n",
       "      <td>Berczy Park</td>\n",
       "      <td>0.0</td>\n",
       "      <td>0.0</td>\n",
       "      <td>0.0</td>\n",
       "      <td>0.0</td>\n",
       "      <td>0.00</td>\n",
       "      <td>0.0</td>\n",
       "      <td>0.0</td>\n",
       "      <td>0.000000</td>\n",
       "      <td>0.00</td>\n",
       "      <td>...</td>\n",
       "      <td>0.000000</td>\n",
       "      <td>0.0</td>\n",
       "      <td>0.0</td>\n",
       "      <td>0.0</td>\n",
       "      <td>0.0</td>\n",
       "      <td>0.00</td>\n",
       "      <td>0.0</td>\n",
       "      <td>0.000</td>\n",
       "      <td>0.0</td>\n",
       "      <td>0.0</td>\n",
       "    </tr>\n",
       "    <tr>\n",
       "      <th>1</th>\n",
       "      <td>Brockton, Parkdale Village, Exhibition Place</td>\n",
       "      <td>0.0</td>\n",
       "      <td>0.0</td>\n",
       "      <td>0.0</td>\n",
       "      <td>0.0</td>\n",
       "      <td>0.00</td>\n",
       "      <td>0.0</td>\n",
       "      <td>0.0</td>\n",
       "      <td>0.000000</td>\n",
       "      <td>0.00</td>\n",
       "      <td>...</td>\n",
       "      <td>0.000000</td>\n",
       "      <td>0.0</td>\n",
       "      <td>0.0</td>\n",
       "      <td>0.0</td>\n",
       "      <td>0.0</td>\n",
       "      <td>0.00</td>\n",
       "      <td>0.0</td>\n",
       "      <td>0.125</td>\n",
       "      <td>0.0</td>\n",
       "      <td>0.0</td>\n",
       "    </tr>\n",
       "    <tr>\n",
       "      <th>2</th>\n",
       "      <td>Business reply mail Processing Centre, South C...</td>\n",
       "      <td>0.0</td>\n",
       "      <td>0.0</td>\n",
       "      <td>0.0</td>\n",
       "      <td>0.0</td>\n",
       "      <td>0.04</td>\n",
       "      <td>0.0</td>\n",
       "      <td>0.0</td>\n",
       "      <td>0.000000</td>\n",
       "      <td>0.08</td>\n",
       "      <td>...</td>\n",
       "      <td>0.040000</td>\n",
       "      <td>0.0</td>\n",
       "      <td>0.0</td>\n",
       "      <td>0.0</td>\n",
       "      <td>0.0</td>\n",
       "      <td>0.04</td>\n",
       "      <td>0.0</td>\n",
       "      <td>0.000</td>\n",
       "      <td>0.0</td>\n",
       "      <td>0.0</td>\n",
       "    </tr>\n",
       "    <tr>\n",
       "      <th>3</th>\n",
       "      <td>CN Tower, King and Spadina, Railway Lands, Har...</td>\n",
       "      <td>0.0</td>\n",
       "      <td>0.0</td>\n",
       "      <td>0.0</td>\n",
       "      <td>0.0</td>\n",
       "      <td>0.00</td>\n",
       "      <td>0.0</td>\n",
       "      <td>0.0</td>\n",
       "      <td>0.000000</td>\n",
       "      <td>0.00</td>\n",
       "      <td>...</td>\n",
       "      <td>0.000000</td>\n",
       "      <td>0.0</td>\n",
       "      <td>0.0</td>\n",
       "      <td>0.0</td>\n",
       "      <td>0.2</td>\n",
       "      <td>0.00</td>\n",
       "      <td>0.2</td>\n",
       "      <td>0.000</td>\n",
       "      <td>0.0</td>\n",
       "      <td>0.0</td>\n",
       "    </tr>\n",
       "    <tr>\n",
       "      <th>4</th>\n",
       "      <td>Central Bay Street</td>\n",
       "      <td>0.0</td>\n",
       "      <td>0.0</td>\n",
       "      <td>0.0</td>\n",
       "      <td>0.0</td>\n",
       "      <td>0.00</td>\n",
       "      <td>0.0</td>\n",
       "      <td>0.0</td>\n",
       "      <td>0.035714</td>\n",
       "      <td>0.00</td>\n",
       "      <td>...</td>\n",
       "      <td>0.035714</td>\n",
       "      <td>0.0</td>\n",
       "      <td>0.0</td>\n",
       "      <td>0.0</td>\n",
       "      <td>0.0</td>\n",
       "      <td>0.00</td>\n",
       "      <td>0.0</td>\n",
       "      <td>0.000</td>\n",
       "      <td>0.0</td>\n",
       "      <td>0.0</td>\n",
       "    </tr>\n",
       "  </tbody>\n",
       "</table>\n",
       "<p>5 rows × 136 columns</p>\n",
       "</div>"
      ],
      "text/plain": [
       "                                       Neighbourhood  American Restaurant  \\\n",
       "0                                        Berczy Park                  0.0   \n",
       "1       Brockton, Parkdale Village, Exhibition Place                  0.0   \n",
       "2  Business reply mail Processing Centre, South C...                  0.0   \n",
       "3  CN Tower, King and Spadina, Railway Lands, Har...                  0.0   \n",
       "4                                 Central Bay Street                  0.0   \n",
       "\n",
       "   Antique Shop  Art Gallery  Arts & Crafts Store  Asian Restaurant  \\\n",
       "0           0.0          0.0                  0.0              0.00   \n",
       "1           0.0          0.0                  0.0              0.00   \n",
       "2           0.0          0.0                  0.0              0.04   \n",
       "3           0.0          0.0                  0.0              0.00   \n",
       "4           0.0          0.0                  0.0              0.00   \n",
       "\n",
       "   BBQ Joint  Bakery      Bank   Bar  ...  Thai Restaurant  Theater  \\\n",
       "0        0.0     0.0  0.000000  0.00  ...         0.000000      0.0   \n",
       "1        0.0     0.0  0.000000  0.00  ...         0.000000      0.0   \n",
       "2        0.0     0.0  0.000000  0.08  ...         0.040000      0.0   \n",
       "3        0.0     0.0  0.000000  0.00  ...         0.000000      0.0   \n",
       "4        0.0     0.0  0.035714  0.00  ...         0.035714      0.0   \n",
       "\n",
       "   Theme Restaurant  Trail  Train Station  Vegetarian / Vegan Restaurant  \\\n",
       "0               0.0    0.0            0.0                           0.00   \n",
       "1               0.0    0.0            0.0                           0.00   \n",
       "2               0.0    0.0            0.0                           0.04   \n",
       "3               0.0    0.0            0.2                           0.00   \n",
       "4               0.0    0.0            0.0                           0.00   \n",
       "\n",
       "   Veterinarian  Vietnamese Restaurant  Wine Bar  Yoga Studio  \n",
       "0           0.0                  0.000       0.0          0.0  \n",
       "1           0.0                  0.125       0.0          0.0  \n",
       "2           0.0                  0.000       0.0          0.0  \n",
       "3           0.2                  0.000       0.0          0.0  \n",
       "4           0.0                  0.000       0.0          0.0  \n",
       "\n",
       "[5 rows x 136 columns]"
      ]
     },
     "execution_count": 27,
     "metadata": {},
     "output_type": "execute_result"
    }
   ],
   "source": [
    "# one-hot-encoding for the venues\n",
    "toronto_onehot = pd.get_dummies(df_toronto_venues[['Venue']], prefix=\"\", prefix_sep=\"\")\n",
    "\n",
    "# move neighbourhood column to the front\n",
    "toronto_onehot.insert(0, 'Neighbourhood', df_toronto_venues['Neighbourhood'])\n",
    "\n",
    "# sum up venue types for each neighbourhood\n",
    "toronto_group = toronto_onehot.groupby(['Neighbourhood']).mean().reset_index()\n",
    "\n",
    "toronto_group.head()"
   ]
  },
  {
   "cell_type": "markdown",
   "metadata": {},
   "source": [
    "#### Cluster neighbourhoods based on number of venue types"
   ]
  },
  {
   "cell_type": "markdown",
   "metadata": {},
   "source": [
    "we use k-means to group neighbourhoods in 4 groups"
   ]
  },
  {
   "cell_type": "code",
   "execution_count": 28,
   "metadata": {},
   "outputs": [],
   "source": [
    "from sklearn.cluster import KMeans"
   ]
  },
  {
   "cell_type": "code",
   "execution_count": 29,
   "metadata": {},
   "outputs": [],
   "source": [
    "# get features based on which groups will be made\n",
    "features = toronto_group.drop(['Neighbourhood'], axis=1)\n",
    "\n",
    "# create k-means model and fit our data\n",
    "kclusters = 3\n",
    "kmeans = KMeans(n_clusters=kclusters, init='k-means++', n_init=20, max_iter=500, random_state=0).fit(features)"
   ]
  },
  {
   "cell_type": "markdown",
   "metadata": {},
   "source": [
    "create new data frame with assigned cluster and top 3 venue types for each neighbourhood"
   ]
  },
  {
   "cell_type": "code",
   "execution_count": 30,
   "metadata": {},
   "outputs": [],
   "source": [
    "columns=['Cluster', 'Neighbourhood', 'top_1_venue', 'top_2_venue', 'top_3_venue']\n",
    "toronto_clustered = pd.DataFrame(columns=columns)\n",
    "for i in range(features.shape[0]):\n",
    "    toronto_clustered.loc[i,columns[0]] = kmeans.labels_[i]\n",
    "    toronto_clustered.loc[i,columns[1]] = toronto_group.loc[i, 'Neighbourhood']\n",
    "    toronto_clustered.loc[i,columns[2:5]] = features.iloc[i,:].sort_values(ascending=False).index[0:3]"
   ]
  },
  {
   "cell_type": "code",
   "execution_count": 31,
   "metadata": {},
   "outputs": [
    {
     "data": {
      "text/html": [
       "<div>\n",
       "<style scoped>\n",
       "    .dataframe tbody tr th:only-of-type {\n",
       "        vertical-align: middle;\n",
       "    }\n",
       "\n",
       "    .dataframe tbody tr th {\n",
       "        vertical-align: top;\n",
       "    }\n",
       "\n",
       "    .dataframe thead th {\n",
       "        text-align: right;\n",
       "    }\n",
       "</style>\n",
       "<table border=\"1\" class=\"dataframe\">\n",
       "  <thead>\n",
       "    <tr style=\"text-align: right;\">\n",
       "      <th></th>\n",
       "      <th>Cluster</th>\n",
       "      <th>Neighbourhood</th>\n",
       "      <th>top_1_venue</th>\n",
       "      <th>top_2_venue</th>\n",
       "      <th>top_3_venue</th>\n",
       "    </tr>\n",
       "  </thead>\n",
       "  <tbody>\n",
       "    <tr>\n",
       "      <th>0</th>\n",
       "      <td>1</td>\n",
       "      <td>Berczy Park</td>\n",
       "      <td>Breakfast Spot</td>\n",
       "      <td>Restaurant</td>\n",
       "      <td>Italian Restaurant</td>\n",
       "    </tr>\n",
       "    <tr>\n",
       "      <th>1</th>\n",
       "      <td>1</td>\n",
       "      <td>Brockton, Parkdale Village, Exhibition Place</td>\n",
       "      <td>Sandwich Place</td>\n",
       "      <td>Coffee Shop</td>\n",
       "      <td>Pet Store</td>\n",
       "    </tr>\n",
       "    <tr>\n",
       "      <th>2</th>\n",
       "      <td>1</td>\n",
       "      <td>Business reply mail Processing Centre, South C...</td>\n",
       "      <td>Café</td>\n",
       "      <td>Japanese Restaurant</td>\n",
       "      <td>Steakhouse</td>\n",
       "    </tr>\n",
       "    <tr>\n",
       "      <th>3</th>\n",
       "      <td>1</td>\n",
       "      <td>CN Tower, King and Spadina, Railway Lands, Har...</td>\n",
       "      <td>Coffee Shop</td>\n",
       "      <td>Veterinarian</td>\n",
       "      <td>Train Station</td>\n",
       "    </tr>\n",
       "    <tr>\n",
       "      <th>4</th>\n",
       "      <td>1</td>\n",
       "      <td>Central Bay Street</td>\n",
       "      <td>Sushi Restaurant</td>\n",
       "      <td>Ramen Restaurant</td>\n",
       "      <td>Japanese Restaurant</td>\n",
       "    </tr>\n",
       "  </tbody>\n",
       "</table>\n",
       "</div>"
      ],
      "text/plain": [
       "  Cluster                                      Neighbourhood  \\\n",
       "0       1                                        Berczy Park   \n",
       "1       1       Brockton, Parkdale Village, Exhibition Place   \n",
       "2       1  Business reply mail Processing Centre, South C...   \n",
       "3       1  CN Tower, King and Spadina, Railway Lands, Har...   \n",
       "4       1                                 Central Bay Street   \n",
       "\n",
       "        top_1_venue          top_2_venue          top_3_venue  \n",
       "0    Breakfast Spot           Restaurant   Italian Restaurant  \n",
       "1    Sandwich Place          Coffee Shop            Pet Store  \n",
       "2              Café  Japanese Restaurant           Steakhouse  \n",
       "3       Coffee Shop         Veterinarian        Train Station  \n",
       "4  Sushi Restaurant     Ramen Restaurant  Japanese Restaurant  "
      ]
     },
     "execution_count": 31,
     "metadata": {},
     "output_type": "execute_result"
    }
   ],
   "source": [
    "toronto_clustered.head()"
   ]
  },
  {
   "cell_type": "markdown",
   "metadata": {},
   "source": [
    "add borough and location data"
   ]
  },
  {
   "cell_type": "code",
   "execution_count": 32,
   "metadata": {},
   "outputs": [
    {
     "data": {
      "text/html": [
       "<div>\n",
       "<style scoped>\n",
       "    .dataframe tbody tr th:only-of-type {\n",
       "        vertical-align: middle;\n",
       "    }\n",
       "\n",
       "    .dataframe tbody tr th {\n",
       "        vertical-align: top;\n",
       "    }\n",
       "\n",
       "    .dataframe thead th {\n",
       "        text-align: right;\n",
       "    }\n",
       "</style>\n",
       "<table border=\"1\" class=\"dataframe\">\n",
       "  <thead>\n",
       "    <tr style=\"text-align: right;\">\n",
       "      <th></th>\n",
       "      <th>Borough</th>\n",
       "      <th>Neighbourhood</th>\n",
       "      <th>Latitude</th>\n",
       "      <th>Longitude</th>\n",
       "      <th>Cluster</th>\n",
       "      <th>top_1_venue</th>\n",
       "      <th>top_2_venue</th>\n",
       "      <th>top_3_venue</th>\n",
       "    </tr>\n",
       "  </thead>\n",
       "  <tbody>\n",
       "    <tr>\n",
       "      <th>0</th>\n",
       "      <td>Downtown Toronto</td>\n",
       "      <td>Regent Park, Harbourfront</td>\n",
       "      <td>43.65514</td>\n",
       "      <td>-79.36265</td>\n",
       "      <td>1</td>\n",
       "      <td>Breakfast Spot</td>\n",
       "      <td>Yoga Studio</td>\n",
       "      <td>Bakery</td>\n",
       "    </tr>\n",
       "    <tr>\n",
       "      <th>1</th>\n",
       "      <td>Downtown Toronto</td>\n",
       "      <td>Queen's Park, Ontario Provincial Government</td>\n",
       "      <td>43.66449</td>\n",
       "      <td>-79.39302</td>\n",
       "      <td>1</td>\n",
       "      <td>Gym</td>\n",
       "      <td>Park</td>\n",
       "      <td>Theater</td>\n",
       "    </tr>\n",
       "    <tr>\n",
       "      <th>2</th>\n",
       "      <td>Downtown Toronto</td>\n",
       "      <td>Garden District, Ryerson</td>\n",
       "      <td>43.65736</td>\n",
       "      <td>-79.37818</td>\n",
       "      <td>1</td>\n",
       "      <td>Coffee Shop</td>\n",
       "      <td>Middle Eastern Restaurant</td>\n",
       "      <td>Café</td>\n",
       "    </tr>\n",
       "    <tr>\n",
       "      <th>3</th>\n",
       "      <td>Downtown Toronto</td>\n",
       "      <td>St. James Town</td>\n",
       "      <td>43.65143</td>\n",
       "      <td>-79.37557</td>\n",
       "      <td>1</td>\n",
       "      <td>Italian Restaurant</td>\n",
       "      <td>Coffee Shop</td>\n",
       "      <td>Gastropub</td>\n",
       "    </tr>\n",
       "    <tr>\n",
       "      <th>4</th>\n",
       "      <td>East Toronto</td>\n",
       "      <td>The Beaches</td>\n",
       "      <td>43.67703</td>\n",
       "      <td>-79.29542</td>\n",
       "      <td>1</td>\n",
       "      <td>Trail</td>\n",
       "      <td>Yoga Studio</td>\n",
       "      <td>Dumpling Restaurant</td>\n",
       "    </tr>\n",
       "  </tbody>\n",
       "</table>\n",
       "</div>"
      ],
      "text/plain": [
       "            Borough                                Neighbourhood  Latitude  \\\n",
       "0  Downtown Toronto                    Regent Park, Harbourfront  43.65514   \n",
       "1  Downtown Toronto  Queen's Park, Ontario Provincial Government  43.66449   \n",
       "2  Downtown Toronto                     Garden District, Ryerson  43.65736   \n",
       "3  Downtown Toronto                               St. James Town  43.65143   \n",
       "4      East Toronto                                  The Beaches  43.67703   \n",
       "\n",
       "   Longitude Cluster         top_1_venue                top_2_venue  \\\n",
       "0  -79.36265       1      Breakfast Spot                Yoga Studio   \n",
       "1  -79.39302       1                 Gym                       Park   \n",
       "2  -79.37818       1         Coffee Shop  Middle Eastern Restaurant   \n",
       "3  -79.37557       1  Italian Restaurant                Coffee Shop   \n",
       "4  -79.29542       1               Trail                Yoga Studio   \n",
       "\n",
       "           top_3_venue  \n",
       "0               Bakery  \n",
       "1              Theater  \n",
       "2                 Café  \n",
       "3            Gastropub  \n",
       "4  Dumpling Restaurant  "
      ]
     },
     "execution_count": 32,
     "metadata": {},
     "output_type": "execute_result"
    }
   ],
   "source": [
    "toronto = df_toronto[['Borough','Neighbourhood','Latitude','Longitude']]\n",
    "toronto = toronto.join(toronto_clustered.set_index('Neighbourhood'), on='Neighbourhood', how='right')\n",
    "toronto.head()"
   ]
  },
  {
   "cell_type": "markdown",
   "metadata": {},
   "source": [
    "group by clusters"
   ]
  },
  {
   "cell_type": "code",
   "execution_count": 33,
   "metadata": {},
   "outputs": [
    {
     "data": {
      "text/html": [
       "<div>\n",
       "<style scoped>\n",
       "    .dataframe tbody tr th:only-of-type {\n",
       "        vertical-align: middle;\n",
       "    }\n",
       "\n",
       "    .dataframe tbody tr th {\n",
       "        vertical-align: top;\n",
       "    }\n",
       "\n",
       "    .dataframe thead th {\n",
       "        text-align: right;\n",
       "    }\n",
       "</style>\n",
       "<table border=\"1\" class=\"dataframe\">\n",
       "  <thead>\n",
       "    <tr style=\"text-align: right;\">\n",
       "      <th></th>\n",
       "      <th>Cluster</th>\n",
       "      <th>Borough</th>\n",
       "      <th>Neighbourhood</th>\n",
       "      <th>Latitude</th>\n",
       "      <th>Longitude</th>\n",
       "      <th>top_1_venue</th>\n",
       "      <th>top_2_venue</th>\n",
       "      <th>top_3_venue</th>\n",
       "    </tr>\n",
       "  </thead>\n",
       "  <tbody>\n",
       "    <tr>\n",
       "      <th>0</th>\n",
       "      <td>0</td>\n",
       "      <td>Central Toronto</td>\n",
       "      <td>Moore Park, Summerhill East</td>\n",
       "      <td>43.69066</td>\n",
       "      <td>-79.38356</td>\n",
       "      <td>Sports Club</td>\n",
       "      <td>Park</td>\n",
       "      <td>Dumpling Restaurant</td>\n",
       "    </tr>\n",
       "    <tr>\n",
       "      <th>1</th>\n",
       "      <td>0</td>\n",
       "      <td>West Toronto</td>\n",
       "      <td>High Park, The Junction South</td>\n",
       "      <td>43.65994</td>\n",
       "      <td>-79.46302</td>\n",
       "      <td>Park</td>\n",
       "      <td>Yoga Studio</td>\n",
       "      <td>Dumpling Restaurant</td>\n",
       "    </tr>\n",
       "    <tr>\n",
       "      <th>2</th>\n",
       "      <td>1</td>\n",
       "      <td>Downtown Toronto</td>\n",
       "      <td>Regent Park, Harbourfront</td>\n",
       "      <td>43.65514</td>\n",
       "      <td>-79.36265</td>\n",
       "      <td>Breakfast Spot</td>\n",
       "      <td>Yoga Studio</td>\n",
       "      <td>Bakery</td>\n",
       "    </tr>\n",
       "    <tr>\n",
       "      <th>3</th>\n",
       "      <td>1</td>\n",
       "      <td>Downtown Toronto</td>\n",
       "      <td>First Canadian Place, Underground city</td>\n",
       "      <td>43.64828</td>\n",
       "      <td>-79.38146</td>\n",
       "      <td>Coffee Shop</td>\n",
       "      <td>Deli / Bodega</td>\n",
       "      <td>Gym</td>\n",
       "    </tr>\n",
       "    <tr>\n",
       "      <th>4</th>\n",
       "      <td>1</td>\n",
       "      <td>Downtown Toronto</td>\n",
       "      <td>St. James Town, Cabbagetown</td>\n",
       "      <td>43.66788</td>\n",
       "      <td>-79.36649</td>\n",
       "      <td>Convenience Store</td>\n",
       "      <td>Café</td>\n",
       "      <td>General Entertainment</td>\n",
       "    </tr>\n",
       "  </tbody>\n",
       "</table>\n",
       "</div>"
      ],
      "text/plain": [
       "  Cluster           Borough                           Neighbourhood  Latitude  \\\n",
       "0       0   Central Toronto             Moore Park, Summerhill East  43.69066   \n",
       "1       0      West Toronto           High Park, The Junction South  43.65994   \n",
       "2       1  Downtown Toronto               Regent Park, Harbourfront  43.65514   \n",
       "3       1  Downtown Toronto  First Canadian Place, Underground city  43.64828   \n",
       "4       1  Downtown Toronto             St. James Town, Cabbagetown  43.66788   \n",
       "\n",
       "   Longitude        top_1_venue    top_2_venue            top_3_venue  \n",
       "0  -79.38356        Sports Club           Park    Dumpling Restaurant  \n",
       "1  -79.46302               Park    Yoga Studio    Dumpling Restaurant  \n",
       "2  -79.36265     Breakfast Spot    Yoga Studio                 Bakery  \n",
       "3  -79.38146        Coffee Shop  Deli / Bodega                    Gym  \n",
       "4  -79.36649  Convenience Store           Café  General Entertainment  "
      ]
     },
     "execution_count": 33,
     "metadata": {},
     "output_type": "execute_result"
    }
   ],
   "source": [
    "# move cluster column to front\n",
    "fixed_columns = [toronto.columns[4]] + list(toronto.columns[0:4]) + list(toronto.columns[5:])\n",
    "toronto_cluster = toronto[fixed_columns]\n",
    "\n",
    "# group by cluster\n",
    "toronto_cluster.sort_values(by='Cluster', inplace=True)\n",
    "toronto_cluster.reset_index(drop=True, inplace=True)\n",
    "toronto_cluster.head()"
   ]
  },
  {
   "cell_type": "markdown",
   "metadata": {},
   "source": [
    "How were the neighbourhoods classified:"
   ]
  },
  {
   "cell_type": "code",
   "execution_count": 34,
   "metadata": {},
   "outputs": [
    {
     "data": {
      "text/plain": [
       "1    32\n",
       "0     2\n",
       "2     1\n",
       "Name: Cluster, dtype: int64"
      ]
     },
     "execution_count": 34,
     "metadata": {},
     "output_type": "execute_result"
    }
   ],
   "source": [
    "toronto_cluster['Cluster'].value_counts()"
   ]
  },
  {
   "cell_type": "markdown",
   "metadata": {},
   "source": [
    "What was the main factor for each cluster:"
   ]
  },
  {
   "cell_type": "code",
   "execution_count": 35,
   "metadata": {},
   "outputs": [
    {
     "data": {
      "text/plain": [
       "Park                   2\n",
       "Dumpling Restaurant    2\n",
       "Yoga Studio            1\n",
       "Name: value, dtype: int64"
      ]
     },
     "execution_count": 35,
     "metadata": {},
     "output_type": "execute_result"
    }
   ],
   "source": [
    "cluster0 = pd.melt(toronto_cluster[toronto_cluster['Cluster']==0][['top_1_venue','top_2_venue','top_3_venue']])['value'].value_counts()\n",
    "cluster0[0:3]"
   ]
  },
  {
   "cell_type": "code",
   "execution_count": 36,
   "metadata": {},
   "outputs": [
    {
     "data": {
      "text/plain": [
       "Café           12\n",
       "Coffee Shop    11\n",
       "Yoga Studio     7\n",
       "Name: value, dtype: int64"
      ]
     },
     "execution_count": 36,
     "metadata": {},
     "output_type": "execute_result"
    }
   ],
   "source": [
    "cluster1 = pd.melt(toronto_cluster[toronto_cluster['Cluster']==1][['top_1_venue','top_2_venue','top_3_venue']])['value'].value_counts()\n",
    "cluster1[0:3]"
   ]
  },
  {
   "cell_type": "code",
   "execution_count": 37,
   "metadata": {},
   "outputs": [
    {
     "data": {
      "text/plain": [
       "Ethiopian Restaurant    1\n",
       "Yoga Studio             1\n",
       "Scenic Lookout          1\n",
       "Name: value, dtype: int64"
      ]
     },
     "execution_count": 37,
     "metadata": {},
     "output_type": "execute_result"
    }
   ],
   "source": [
    "cluster2 = pd.melt(toronto_cluster[toronto_cluster['Cluster']==2][['top_1_venue','top_2_venue','top_3_venue']])['value'].value_counts()\n",
    "cluster2[0:3]"
   ]
  },
  {
   "cell_type": "markdown",
   "metadata": {},
   "source": [
    "\\* it seems that:<br>\n",
    "    - first cluster contains neighbourhoods where parks are most common<br>\n",
    "    - second cluster contains neighbourhoods where cafe's are most common<br>\n",
    "    - and third cluster contains neighbourhoods with no cafes or parks"
   ]
  },
  {
   "cell_type": "markdown",
   "metadata": {},
   "source": [
    "#### Create map showing different clusters"
   ]
  },
  {
   "cell_type": "code",
   "execution_count": 38,
   "metadata": {},
   "outputs": [],
   "source": [
    "import folium"
   ]
  },
  {
   "cell_type": "code",
   "execution_count": 39,
   "metadata": {},
   "outputs": [
    {
     "data": {
      "text/html": [
       "<div style=\"width:100%;\"><div style=\"position:relative;width:100%;height:0;padding-bottom:60%;\"><span style=\"color:#565656\">Make this Notebook Trusted to load map: File -> Trust Notebook</span><iframe src=\"about:blank\" style=\"position:absolute;width:100%;height:100%;left:0;top:0;border:none !important;\" data-html=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 onload=\"this.contentDocument.open();this.contentDocument.write(atob(this.getAttribute('data-html')));this.contentDocument.close();\" allowfullscreen webkitallowfullscreen mozallowfullscreen></iframe></div></div>"
      ],
      "text/plain": [
       "<folium.folium.Map at 0x248791cff48>"
      ]
     },
     "execution_count": 39,
     "metadata": {},
     "output_type": "execute_result"
    }
   ],
   "source": [
    "toronto_map = folium.Map([toronto_cluster['Latitude'].median(), toronto_cluster['Longitude'].median()], zoom_start=12)\n",
    "\n",
    "colors = ['red', 'blue', 'green', 'magenta']\n",
    "\n",
    "for i in range(toronto_cluster.shape[0]):\n",
    "        folium.CircleMarker(\n",
    "        [toronto_cluster.loc[i, 'Latitude'], toronto_cluster.loc[i, 'Longitude']],\n",
    "        color = colors[int(toronto_cluster.loc[i, 'Cluster'])],\n",
    "        radius = 5,\n",
    "        fill = True,\n",
    "        fill_color = colors[int(toronto_cluster.loc[i, 'Cluster'])],\n",
    "        fill_opacity = 0.7,\n",
    "        popup = toronto_cluster.loc[i, 'Neighbourhood']\n",
    "    ).add_to(toronto_map)\n",
    "\n",
    "toronto_map"
   ]
  },
  {
   "cell_type": "code",
   "execution_count": null,
   "metadata": {},
   "outputs": [],
   "source": []
  }
 ],
 "metadata": {
  "kernelspec": {
   "display_name": "Python 3",
   "language": "python",
   "name": "python3"
  },
  "language_info": {
   "codemirror_mode": {
    "name": "ipython",
    "version": 3
   },
   "file_extension": ".py",
   "mimetype": "text/x-python",
   "name": "python",
   "nbconvert_exporter": "python",
   "pygments_lexer": "ipython3",
   "version": "3.7.6"
  }
 },
 "nbformat": 4,
 "nbformat_minor": 4
}
